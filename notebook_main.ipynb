{
 "cells": [
  {
   "cell_type": "code",
   "execution_count": 1,
   "metadata": {},
   "outputs": [
    {
     "data": {
      "text/plain": [
       "'C:\\\\Satyaki\\\\Insofe_Rennes\\\\MITH\\\\ProblemDescription_and_Dataset'"
      ]
     },
     "execution_count": 1,
     "metadata": {},
     "output_type": "execute_result"
    }
   ],
   "source": [
    "import os\n",
    "os.chdir('C:/Satyaki/Insofe_Rennes/MITH/ProblemDescription_and_Dataset')\n",
    "os.getcwd()"
   ]
  },
  {
   "cell_type": "code",
   "execution_count": 256,
   "metadata": {},
   "outputs": [],
   "source": [
    "import numpy as np\n",
    "import pandas as pd\n",
    "import matplotlib.pyplot as plt\n",
    "%matplotlib inline\n",
    "import seaborn as sns\n",
    "from datetime import datetime, date, time\n",
    "from ipaddress import ip_address,ip_interface\n",
    "from sklearn.model_selection import train_test_split\n",
    "import warnings\n",
    "warnings.filterwarnings('ignore')\n",
    "from sklearn.impute import SimpleImputer\n",
    "from sklearn.preprocessing import StandardScaler\n",
    "from sklearn.metrics import confusion_matrix\n",
    "from sklearn.metrics import f1_score\n",
    "from sklearn.model_selection import GridSearchCV,cross_val_score,StratifiedKFold,RandomizedSearchCV"
   ]
  },
  {
   "cell_type": "code",
   "execution_count": 3,
   "metadata": {},
   "outputs": [],
   "source": [
    "merchant_info_1=pd.read_csv('train_merchant_data.csv')\n",
    "order_info_1=pd.read_csv('train_order_data.csv')\n",
    "label_info_1=pd.read_csv('train.csv')\n",
    "\n",
    "merchant_info_2=pd.read_csv('test_merchant_data.csv')\n",
    "order_info_2=pd.read_csv('test_order_data.csv')\n",
    "label_info_2=pd.read_csv('test.csv')\n",
    "\n",
    "ip_book=pd.read_csv('ip_boundaries_countries.csv')"
   ]
  },
  {
   "cell_type": "code",
   "execution_count": 4,
   "metadata": {},
   "outputs": [],
   "source": [
    "#viewing the datasets"
   ]
  },
  {
   "cell_type": "code",
   "execution_count": 5,
   "metadata": {},
   "outputs": [
    {
     "data": {
      "text/html": [
       "<div>\n",
       "<style scoped>\n",
       "    .dataframe tbody tr th:only-of-type {\n",
       "        vertical-align: middle;\n",
       "    }\n",
       "\n",
       "    .dataframe tbody tr th {\n",
       "        vertical-align: top;\n",
       "    }\n",
       "\n",
       "    .dataframe thead th {\n",
       "        text-align: right;\n",
       "    }\n",
       "</style>\n",
       "<table border=\"1\" class=\"dataframe\">\n",
       "  <thead>\n",
       "    <tr style=\"text-align: right;\">\n",
       "      <th></th>\n",
       "      <th>Ecommerce_Provider_ID</th>\n",
       "      <th>Merchant_ID</th>\n",
       "      <th>Merchant_Registration_Date</th>\n",
       "      <th>Registered_Device_ID</th>\n",
       "      <th>Gender</th>\n",
       "      <th>Age</th>\n",
       "      <th>IP_Address</th>\n",
       "    </tr>\n",
       "  </thead>\n",
       "  <tbody>\n",
       "    <tr>\n",
       "      <td>0</td>\n",
       "      <td>1746213</td>\n",
       "      <td>50448</td>\n",
       "      <td>2018-05-01 21:15:11</td>\n",
       "      <td>VATQMMZTVOZUT</td>\n",
       "      <td>F</td>\n",
       "      <td>39</td>\n",
       "      <td>48.151.136.76</td>\n",
       "    </tr>\n",
       "    <tr>\n",
       "      <td>1</td>\n",
       "      <td>1746213</td>\n",
       "      <td>338754</td>\n",
       "      <td>2018-04-14 10:13:00</td>\n",
       "      <td>LJCILLBRQZNKS</td>\n",
       "      <td>M</td>\n",
       "      <td>35</td>\n",
       "      <td>94.9.145.169</td>\n",
       "    </tr>\n",
       "    <tr>\n",
       "      <td>2</td>\n",
       "      <td>1746213</td>\n",
       "      <td>291127</td>\n",
       "      <td>2018-06-20 07:44:22</td>\n",
       "      <td>JFVHSUGKDAYZV</td>\n",
       "      <td>F</td>\n",
       "      <td>40</td>\n",
       "      <td>58.94.157.121</td>\n",
       "    </tr>\n",
       "    <tr>\n",
       "      <td>3</td>\n",
       "      <td>1746213</td>\n",
       "      <td>319919</td>\n",
       "      <td>2018-06-27 01:41:39</td>\n",
       "      <td>WFRXMPLQYXRMY</td>\n",
       "      <td>M</td>\n",
       "      <td>37</td>\n",
       "      <td>193.187.41.186</td>\n",
       "    </tr>\n",
       "    <tr>\n",
       "      <td>4</td>\n",
       "      <td>1746213</td>\n",
       "      <td>195911</td>\n",
       "      <td>2018-01-05 00:55:41</td>\n",
       "      <td>GGHKWMSWHCMID</td>\n",
       "      <td>F</td>\n",
       "      <td>27</td>\n",
       "      <td>125.96.20.172</td>\n",
       "    </tr>\n",
       "  </tbody>\n",
       "</table>\n",
       "</div>"
      ],
      "text/plain": [
       "   Ecommerce_Provider_ID  Merchant_ID Merchant_Registration_Date  \\\n",
       "0                1746213        50448        2018-05-01 21:15:11   \n",
       "1                1746213       338754        2018-04-14 10:13:00   \n",
       "2                1746213       291127        2018-06-20 07:44:22   \n",
       "3                1746213       319919        2018-06-27 01:41:39   \n",
       "4                1746213       195911        2018-01-05 00:55:41   \n",
       "\n",
       "  Registered_Device_ID Gender  Age      IP_Address  \n",
       "0        VATQMMZTVOZUT      F   39   48.151.136.76  \n",
       "1        LJCILLBRQZNKS      M   35    94.9.145.169  \n",
       "2        JFVHSUGKDAYZV      F   40   58.94.157.121  \n",
       "3        WFRXMPLQYXRMY      M   37  193.187.41.186  \n",
       "4        GGHKWMSWHCMID      F   27   125.96.20.172  "
      ]
     },
     "execution_count": 5,
     "metadata": {},
     "output_type": "execute_result"
    }
   ],
   "source": [
    "merchant_info_1.head()"
   ]
  },
  {
   "cell_type": "code",
   "execution_count": 6,
   "metadata": {},
   "outputs": [
    {
     "data": {
      "text/html": [
       "<div>\n",
       "<style scoped>\n",
       "    .dataframe tbody tr th:only-of-type {\n",
       "        vertical-align: middle;\n",
       "    }\n",
       "\n",
       "    .dataframe tbody tr th {\n",
       "        vertical-align: top;\n",
       "    }\n",
       "\n",
       "    .dataframe thead th {\n",
       "        text-align: right;\n",
       "    }\n",
       "</style>\n",
       "<table border=\"1\" class=\"dataframe\">\n",
       "  <thead>\n",
       "    <tr style=\"text-align: right;\">\n",
       "      <th></th>\n",
       "      <th>Customer_ID</th>\n",
       "      <th>Order_ID</th>\n",
       "      <th>Date_of_Order</th>\n",
       "      <th>Order_Value_USD</th>\n",
       "      <th>Order_Source</th>\n",
       "      <th>Order_Payment_Method</th>\n",
       "      <th>Merchant_ID</th>\n",
       "    </tr>\n",
       "  </thead>\n",
       "  <tbody>\n",
       "    <tr>\n",
       "      <td>0</td>\n",
       "      <td>126221</td>\n",
       "      <td>37cea9512f8d</td>\n",
       "      <td>2018-04-29 16:39:26</td>\n",
       "      <td>148</td>\n",
       "      <td>Direct</td>\n",
       "      <td>Credit Card</td>\n",
       "      <td>124231</td>\n",
       "    </tr>\n",
       "    <tr>\n",
       "      <td>1</td>\n",
       "      <td>115471</td>\n",
       "      <td>09f12e6efde2</td>\n",
       "      <td>2018-06-16 17:05:40</td>\n",
       "      <td>145</td>\n",
       "      <td>SEO</td>\n",
       "      <td>Credit Card</td>\n",
       "      <td>136178</td>\n",
       "    </tr>\n",
       "    <tr>\n",
       "      <td>2</td>\n",
       "      <td>151786</td>\n",
       "      <td>4e69e956e159</td>\n",
       "      <td>2018-10-26 18:00:46</td>\n",
       "      <td>62</td>\n",
       "      <td>Ads</td>\n",
       "      <td>Internet Banking</td>\n",
       "      <td>198611</td>\n",
       "    </tr>\n",
       "    <tr>\n",
       "      <td>3</td>\n",
       "      <td>140456</td>\n",
       "      <td>663443aaeb82</td>\n",
       "      <td>2018-12-12 05:41:52</td>\n",
       "      <td>28</td>\n",
       "      <td>SEO</td>\n",
       "      <td>Debit Card</td>\n",
       "      <td>127993</td>\n",
       "    </tr>\n",
       "    <tr>\n",
       "      <td>4</td>\n",
       "      <td>114721</td>\n",
       "      <td>99258810c121</td>\n",
       "      <td>2018-09-20 11:06:10</td>\n",
       "      <td>70</td>\n",
       "      <td>Ads</td>\n",
       "      <td>Credit Card</td>\n",
       "      <td>250146</td>\n",
       "    </tr>\n",
       "  </tbody>\n",
       "</table>\n",
       "</div>"
      ],
      "text/plain": [
       "   Customer_ID      Order_ID        Date_of_Order  Order_Value_USD  \\\n",
       "0       126221  37cea9512f8d  2018-04-29 16:39:26              148   \n",
       "1       115471  09f12e6efde2  2018-06-16 17:05:40              145   \n",
       "2       151786  4e69e956e159  2018-10-26 18:00:46               62   \n",
       "3       140456  663443aaeb82  2018-12-12 05:41:52               28   \n",
       "4       114721  99258810c121  2018-09-20 11:06:10               70   \n",
       "\n",
       "  Order_Source Order_Payment_Method  Merchant_ID  \n",
       "0       Direct          Credit Card       124231  \n",
       "1          SEO          Credit Card       136178  \n",
       "2          Ads     Internet Banking       198611  \n",
       "3          SEO           Debit Card       127993  \n",
       "4          Ads          Credit Card       250146  "
      ]
     },
     "execution_count": 6,
     "metadata": {},
     "output_type": "execute_result"
    }
   ],
   "source": [
    "order_info_1.head()"
   ]
  },
  {
   "cell_type": "code",
   "execution_count": 7,
   "metadata": {},
   "outputs": [
    {
     "data": {
      "text/html": [
       "<div>\n",
       "<style scoped>\n",
       "    .dataframe tbody tr th:only-of-type {\n",
       "        vertical-align: middle;\n",
       "    }\n",
       "\n",
       "    .dataframe tbody tr th {\n",
       "        vertical-align: top;\n",
       "    }\n",
       "\n",
       "    .dataframe thead th {\n",
       "        text-align: right;\n",
       "    }\n",
       "</style>\n",
       "<table border=\"1\" class=\"dataframe\">\n",
       "  <thead>\n",
       "    <tr style=\"text-align: right;\">\n",
       "      <th></th>\n",
       "      <th>Merchant_ID</th>\n",
       "      <th>Fraudster</th>\n",
       "    </tr>\n",
       "  </thead>\n",
       "  <tbody>\n",
       "    <tr>\n",
       "      <td>0</td>\n",
       "      <td>221592</td>\n",
       "      <td>0</td>\n",
       "    </tr>\n",
       "    <tr>\n",
       "      <td>1</td>\n",
       "      <td>316935</td>\n",
       "      <td>1</td>\n",
       "    </tr>\n",
       "    <tr>\n",
       "      <td>2</td>\n",
       "      <td>38454</td>\n",
       "      <td>1</td>\n",
       "    </tr>\n",
       "    <tr>\n",
       "      <td>3</td>\n",
       "      <td>214437</td>\n",
       "      <td>1</td>\n",
       "    </tr>\n",
       "    <tr>\n",
       "      <td>4</td>\n",
       "      <td>296240</td>\n",
       "      <td>1</td>\n",
       "    </tr>\n",
       "  </tbody>\n",
       "</table>\n",
       "</div>"
      ],
      "text/plain": [
       "   Merchant_ID  Fraudster\n",
       "0       221592          0\n",
       "1       316935          1\n",
       "2        38454          1\n",
       "3       214437          1\n",
       "4       296240          1"
      ]
     },
     "execution_count": 7,
     "metadata": {},
     "output_type": "execute_result"
    }
   ],
   "source": [
    "label_info_1.head()"
   ]
  },
  {
   "cell_type": "code",
   "execution_count": 8,
   "metadata": {},
   "outputs": [
    {
     "data": {
      "text/plain": [
       "(138846, 3)"
      ]
     },
     "execution_count": 8,
     "metadata": {},
     "output_type": "execute_result"
    }
   ],
   "source": [
    "ip_book['lower_bound_ip_address']=ip_book['lower_bound_ip_address'].apply(lambda x:ip_address(x))\n",
    "ip_book['upper_bound_ip_address']=ip_book['upper_bound_ip_address'].apply(lambda x:ip_address(x))\n",
    "ip_book.shape"
   ]
  },
  {
   "cell_type": "code",
   "execution_count": 9,
   "metadata": {},
   "outputs": [
    {
     "data": {
      "text/html": [
       "<div>\n",
       "<style scoped>\n",
       "    .dataframe tbody tr th:only-of-type {\n",
       "        vertical-align: middle;\n",
       "    }\n",
       "\n",
       "    .dataframe tbody tr th {\n",
       "        vertical-align: top;\n",
       "    }\n",
       "\n",
       "    .dataframe thead th {\n",
       "        text-align: right;\n",
       "    }\n",
       "</style>\n",
       "<table border=\"1\" class=\"dataframe\">\n",
       "  <thead>\n",
       "    <tr style=\"text-align: right;\">\n",
       "      <th></th>\n",
       "      <th>lower_bound_ip_address</th>\n",
       "      <th>upper_bound_ip_address</th>\n",
       "      <th>country</th>\n",
       "      <th>ll</th>\n",
       "      <th>ul</th>\n",
       "    </tr>\n",
       "  </thead>\n",
       "  <tbody>\n",
       "    <tr>\n",
       "      <td>0</td>\n",
       "      <td>1.0.0.0</td>\n",
       "      <td>1.0.0.255</td>\n",
       "      <td>Australia</td>\n",
       "      <td>16777216</td>\n",
       "      <td>16777471</td>\n",
       "    </tr>\n",
       "    <tr>\n",
       "      <td>1</td>\n",
       "      <td>1.0.1.0</td>\n",
       "      <td>1.0.1.255</td>\n",
       "      <td>China</td>\n",
       "      <td>16777472</td>\n",
       "      <td>16777727</td>\n",
       "    </tr>\n",
       "    <tr>\n",
       "      <td>2</td>\n",
       "      <td>1.0.2.0</td>\n",
       "      <td>1.0.3.255</td>\n",
       "      <td>China</td>\n",
       "      <td>16777728</td>\n",
       "      <td>16778239</td>\n",
       "    </tr>\n",
       "    <tr>\n",
       "      <td>3</td>\n",
       "      <td>1.0.4.0</td>\n",
       "      <td>1.0.7.255</td>\n",
       "      <td>Australia</td>\n",
       "      <td>16778240</td>\n",
       "      <td>16779263</td>\n",
       "    </tr>\n",
       "    <tr>\n",
       "      <td>4</td>\n",
       "      <td>1.0.8.0</td>\n",
       "      <td>1.0.15.255</td>\n",
       "      <td>China</td>\n",
       "      <td>16779264</td>\n",
       "      <td>16781311</td>\n",
       "    </tr>\n",
       "  </tbody>\n",
       "</table>\n",
       "</div>"
      ],
      "text/plain": [
       "  lower_bound_ip_address upper_bound_ip_address    country        ll        ul\n",
       "0                1.0.0.0              1.0.0.255  Australia  16777216  16777471\n",
       "1                1.0.1.0              1.0.1.255      China  16777472  16777727\n",
       "2                1.0.2.0              1.0.3.255      China  16777728  16778239\n",
       "3                1.0.4.0              1.0.7.255  Australia  16778240  16779263\n",
       "4                1.0.8.0             1.0.15.255      China  16779264  16781311"
      ]
     },
     "execution_count": 9,
     "metadata": {},
     "output_type": "execute_result"
    }
   ],
   "source": [
    "ip_book['ll']=ip_book['lower_bound_ip_address'].apply(lambda x: int(x))\n",
    "ip_book['ul']=ip_book['upper_bound_ip_address'].apply(lambda x: int(x))\n",
    "ip_book.head()"
   ]
  },
  {
   "cell_type": "code",
   "execution_count": 10,
   "metadata": {},
   "outputs": [
    {
     "name": "stdout",
     "output_type": "stream",
     "text": [
      "(54213, 7)\n",
      "(54213, 7)\n",
      "(54213, 2)\n",
      "--------------------\n",
      "(13554, 7)\n",
      "(13554, 7)\n",
      "(13554, 1)\n"
     ]
    }
   ],
   "source": [
    "print(merchant_info_1.shape)\n",
    "print(order_info_1.shape)\n",
    "print(label_info_1.shape)\n",
    "print('--------------------')\n",
    "print(merchant_info_2.shape)\n",
    "print(order_info_2.shape)\n",
    "print(label_info_2.shape)"
   ]
  },
  {
   "cell_type": "code",
   "execution_count": 11,
   "metadata": {},
   "outputs": [
    {
     "data": {
      "text/html": [
       "<div>\n",
       "<style scoped>\n",
       "    .dataframe tbody tr th:only-of-type {\n",
       "        vertical-align: middle;\n",
       "    }\n",
       "\n",
       "    .dataframe tbody tr th {\n",
       "        vertical-align: top;\n",
       "    }\n",
       "\n",
       "    .dataframe thead th {\n",
       "        text-align: right;\n",
       "    }\n",
       "</style>\n",
       "<table border=\"1\" class=\"dataframe\">\n",
       "  <thead>\n",
       "    <tr style=\"text-align: right;\">\n",
       "      <th></th>\n",
       "      <th>Ecommerce_Provider_ID</th>\n",
       "      <th>Merchant_ID</th>\n",
       "      <th>Merchant_Registration_Date</th>\n",
       "      <th>Registered_Device_ID</th>\n",
       "      <th>Gender</th>\n",
       "      <th>Age</th>\n",
       "      <th>IP_Address</th>\n",
       "      <th>Customer_ID</th>\n",
       "      <th>Order_ID</th>\n",
       "      <th>Date_of_Order</th>\n",
       "      <th>Order_Value_USD</th>\n",
       "      <th>Order_Source</th>\n",
       "      <th>Order_Payment_Method</th>\n",
       "      <th>Fraudster</th>\n",
       "    </tr>\n",
       "  </thead>\n",
       "  <tbody>\n",
       "    <tr>\n",
       "      <td>0</td>\n",
       "      <td>1746213</td>\n",
       "      <td>50448</td>\n",
       "      <td>2018-05-01 21:15:11</td>\n",
       "      <td>VATQMMZTVOZUT</td>\n",
       "      <td>F</td>\n",
       "      <td>39</td>\n",
       "      <td>48.151.136.76</td>\n",
       "      <td>129697</td>\n",
       "      <td>3b8983a83c7b</td>\n",
       "      <td>2018-07-30 10:59:13</td>\n",
       "      <td>90</td>\n",
       "      <td>SEO</td>\n",
       "      <td>Debit Card</td>\n",
       "      <td>0</td>\n",
       "    </tr>\n",
       "    <tr>\n",
       "      <td>1</td>\n",
       "      <td>1746213</td>\n",
       "      <td>338754</td>\n",
       "      <td>2018-04-14 10:13:00</td>\n",
       "      <td>LJCILLBRQZNKS</td>\n",
       "      <td>M</td>\n",
       "      <td>35</td>\n",
       "      <td>94.9.145.169</td>\n",
       "      <td>117390</td>\n",
       "      <td>34b5eb921228</td>\n",
       "      <td>2018-06-15 11:19:47</td>\n",
       "      <td>98</td>\n",
       "      <td>SEO</td>\n",
       "      <td>Internet Banking</td>\n",
       "      <td>0</td>\n",
       "    </tr>\n",
       "    <tr>\n",
       "      <td>2</td>\n",
       "      <td>1746213</td>\n",
       "      <td>291127</td>\n",
       "      <td>2018-06-20 07:44:22</td>\n",
       "      <td>JFVHSUGKDAYZV</td>\n",
       "      <td>F</td>\n",
       "      <td>40</td>\n",
       "      <td>58.94.157.121</td>\n",
       "      <td>120162</td>\n",
       "      <td>41a1c86ff08b</td>\n",
       "      <td>2018-08-13 10:06:26</td>\n",
       "      <td>95</td>\n",
       "      <td>SEO</td>\n",
       "      <td>Credit Card</td>\n",
       "      <td>0</td>\n",
       "    </tr>\n",
       "    <tr>\n",
       "      <td>3</td>\n",
       "      <td>1746213</td>\n",
       "      <td>319919</td>\n",
       "      <td>2018-06-27 01:41:39</td>\n",
       "      <td>WFRXMPLQYXRMY</td>\n",
       "      <td>M</td>\n",
       "      <td>37</td>\n",
       "      <td>193.187.41.186</td>\n",
       "      <td>128228</td>\n",
       "      <td>e8c3ad80d916</td>\n",
       "      <td>2018-07-22 15:46:51</td>\n",
       "      <td>100</td>\n",
       "      <td>Direct</td>\n",
       "      <td>E-wallet</td>\n",
       "      <td>0</td>\n",
       "    </tr>\n",
       "    <tr>\n",
       "      <td>4</td>\n",
       "      <td>1746213</td>\n",
       "      <td>195911</td>\n",
       "      <td>2018-01-05 00:55:41</td>\n",
       "      <td>GGHKWMSWHCMID</td>\n",
       "      <td>F</td>\n",
       "      <td>27</td>\n",
       "      <td>125.96.20.172</td>\n",
       "      <td>136029</td>\n",
       "      <td>e71ab1f26785</td>\n",
       "      <td>2018-04-16 08:02:44</td>\n",
       "      <td>78</td>\n",
       "      <td>SEO</td>\n",
       "      <td>E-wallet</td>\n",
       "      <td>0</td>\n",
       "    </tr>\n",
       "  </tbody>\n",
       "</table>\n",
       "</div>"
      ],
      "text/plain": [
       "   Ecommerce_Provider_ID  Merchant_ID Merchant_Registration_Date  \\\n",
       "0                1746213        50448        2018-05-01 21:15:11   \n",
       "1                1746213       338754        2018-04-14 10:13:00   \n",
       "2                1746213       291127        2018-06-20 07:44:22   \n",
       "3                1746213       319919        2018-06-27 01:41:39   \n",
       "4                1746213       195911        2018-01-05 00:55:41   \n",
       "\n",
       "  Registered_Device_ID Gender  Age      IP_Address  Customer_ID      Order_ID  \\\n",
       "0        VATQMMZTVOZUT      F   39   48.151.136.76       129697  3b8983a83c7b   \n",
       "1        LJCILLBRQZNKS      M   35    94.9.145.169       117390  34b5eb921228   \n",
       "2        JFVHSUGKDAYZV      F   40   58.94.157.121       120162  41a1c86ff08b   \n",
       "3        WFRXMPLQYXRMY      M   37  193.187.41.186       128228  e8c3ad80d916   \n",
       "4        GGHKWMSWHCMID      F   27   125.96.20.172       136029  e71ab1f26785   \n",
       "\n",
       "         Date_of_Order  Order_Value_USD Order_Source Order_Payment_Method  \\\n",
       "0  2018-07-30 10:59:13               90          SEO           Debit Card   \n",
       "1  2018-06-15 11:19:47               98          SEO     Internet Banking   \n",
       "2  2018-08-13 10:06:26               95          SEO          Credit Card   \n",
       "3  2018-07-22 15:46:51              100       Direct             E-wallet   \n",
       "4  2018-04-16 08:02:44               78          SEO             E-wallet   \n",
       "\n",
       "   Fraudster  \n",
       "0          0  \n",
       "1          0  \n",
       "2          0  \n",
       "3          0  \n",
       "4          0  "
      ]
     },
     "execution_count": 11,
     "metadata": {},
     "output_type": "execute_result"
    }
   ],
   "source": [
    "# consolidating the training data\n",
    "df=merchant_info_1.merge(order_info_1,on='Merchant_ID')\n",
    "train=df.merge(label_info_1,on='Merchant_ID')\n",
    "del(df)\n",
    "#train.set_index('Merchant_ID',inplace=True)\n",
    "train.head()\n"
   ]
  },
  {
   "cell_type": "code",
   "execution_count": 12,
   "metadata": {},
   "outputs": [
    {
     "data": {
      "text/html": [
       "<div>\n",
       "<style scoped>\n",
       "    .dataframe tbody tr th:only-of-type {\n",
       "        vertical-align: middle;\n",
       "    }\n",
       "\n",
       "    .dataframe tbody tr th {\n",
       "        vertical-align: top;\n",
       "    }\n",
       "\n",
       "    .dataframe thead th {\n",
       "        text-align: right;\n",
       "    }\n",
       "</style>\n",
       "<table border=\"1\" class=\"dataframe\">\n",
       "  <thead>\n",
       "    <tr style=\"text-align: right;\">\n",
       "      <th></th>\n",
       "      <th>Ecommerce_Provider_ID</th>\n",
       "      <th>Merchant_ID</th>\n",
       "      <th>Merchant_Registration_Date</th>\n",
       "      <th>Registered_Device_ID</th>\n",
       "      <th>Gender</th>\n",
       "      <th>Age</th>\n",
       "      <th>IP_Address</th>\n",
       "      <th>Customer_ID</th>\n",
       "      <th>Order_ID</th>\n",
       "      <th>Date_of_Order</th>\n",
       "      <th>Order_Value_USD</th>\n",
       "      <th>Order_Source</th>\n",
       "      <th>Order_Payment_Method</th>\n",
       "    </tr>\n",
       "  </thead>\n",
       "  <tbody>\n",
       "    <tr>\n",
       "      <td>0</td>\n",
       "      <td>1746213</td>\n",
       "      <td>53637</td>\n",
       "      <td>2018-02-11 20:50:29</td>\n",
       "      <td>PTMLBENYMQCTV</td>\n",
       "      <td>F</td>\n",
       "      <td>40</td>\n",
       "      <td>134.162.124.62</td>\n",
       "      <td>157068</td>\n",
       "      <td>a032de091f51</td>\n",
       "      <td>2018-03-09 09:09:42</td>\n",
       "      <td>60</td>\n",
       "      <td>SEO</td>\n",
       "      <td>Credit Card</td>\n",
       "    </tr>\n",
       "    <tr>\n",
       "      <td>1</td>\n",
       "      <td>1746213</td>\n",
       "      <td>243517</td>\n",
       "      <td>2018-04-06 13:19:39</td>\n",
       "      <td>HMCLDZUZPWZRR</td>\n",
       "      <td>M</td>\n",
       "      <td>39</td>\n",
       "      <td>152.76.98.87</td>\n",
       "      <td>112534</td>\n",
       "      <td>0d563f0606d6</td>\n",
       "      <td>2018-06-13 20:11:19</td>\n",
       "      <td>28</td>\n",
       "      <td>SEO</td>\n",
       "      <td>Credit Card</td>\n",
       "    </tr>\n",
       "    <tr>\n",
       "      <td>2</td>\n",
       "      <td>1746213</td>\n",
       "      <td>343640</td>\n",
       "      <td>2018-01-12 16:47:49</td>\n",
       "      <td>VLGSMAPXISSEJ</td>\n",
       "      <td>M</td>\n",
       "      <td>23</td>\n",
       "      <td>31.202.3.255</td>\n",
       "      <td>148774</td>\n",
       "      <td>18fb0fa888b6</td>\n",
       "      <td>2018-04-14 04:19:36</td>\n",
       "      <td>75</td>\n",
       "      <td>Ads</td>\n",
       "      <td>Debit Card</td>\n",
       "    </tr>\n",
       "    <tr>\n",
       "      <td>3</td>\n",
       "      <td>1746213</td>\n",
       "      <td>69889</td>\n",
       "      <td>2018-02-19 21:58:52</td>\n",
       "      <td>ZINHISBBOKQXT</td>\n",
       "      <td>M</td>\n",
       "      <td>34</td>\n",
       "      <td>12.242.168.185</td>\n",
       "      <td>114528</td>\n",
       "      <td>ed1eb920d721</td>\n",
       "      <td>2018-04-01 13:55:44</td>\n",
       "      <td>98</td>\n",
       "      <td>SEO</td>\n",
       "      <td>Credit Card</td>\n",
       "    </tr>\n",
       "    <tr>\n",
       "      <td>4</td>\n",
       "      <td>1746213</td>\n",
       "      <td>125706</td>\n",
       "      <td>2018-05-17 15:50:19</td>\n",
       "      <td>WFKEAOTPHTYEO</td>\n",
       "      <td>M</td>\n",
       "      <td>20</td>\n",
       "      <td>26.61.210.47</td>\n",
       "      <td>120940</td>\n",
       "      <td>313dcf962627</td>\n",
       "      <td>2018-05-25 02:08:18</td>\n",
       "      <td>35</td>\n",
       "      <td>SEO</td>\n",
       "      <td>Credit Card</td>\n",
       "    </tr>\n",
       "  </tbody>\n",
       "</table>\n",
       "</div>"
      ],
      "text/plain": [
       "   Ecommerce_Provider_ID  Merchant_ID Merchant_Registration_Date  \\\n",
       "0                1746213        53637        2018-02-11 20:50:29   \n",
       "1                1746213       243517        2018-04-06 13:19:39   \n",
       "2                1746213       343640        2018-01-12 16:47:49   \n",
       "3                1746213        69889        2018-02-19 21:58:52   \n",
       "4                1746213       125706        2018-05-17 15:50:19   \n",
       "\n",
       "  Registered_Device_ID Gender  Age      IP_Address  Customer_ID      Order_ID  \\\n",
       "0        PTMLBENYMQCTV      F   40  134.162.124.62       157068  a032de091f51   \n",
       "1        HMCLDZUZPWZRR      M   39    152.76.98.87       112534  0d563f0606d6   \n",
       "2        VLGSMAPXISSEJ      M   23    31.202.3.255       148774  18fb0fa888b6   \n",
       "3        ZINHISBBOKQXT      M   34  12.242.168.185       114528  ed1eb920d721   \n",
       "4        WFKEAOTPHTYEO      M   20    26.61.210.47       120940  313dcf962627   \n",
       "\n",
       "         Date_of_Order  Order_Value_USD Order_Source Order_Payment_Method  \n",
       "0  2018-03-09 09:09:42               60          SEO          Credit Card  \n",
       "1  2018-06-13 20:11:19               28          SEO          Credit Card  \n",
       "2  2018-04-14 04:19:36               75          Ads           Debit Card  \n",
       "3  2018-04-01 13:55:44               98          SEO          Credit Card  \n",
       "4  2018-05-25 02:08:18               35          SEO          Credit Card  "
      ]
     },
     "execution_count": 12,
     "metadata": {},
     "output_type": "execute_result"
    }
   ],
   "source": [
    "# consolidating test data\n",
    "test=merchant_info_2.merge(order_info_2,on='Merchant_ID')\n",
    "#test.set_index('Merchant_ID',inplace=True)\n",
    "test.head()"
   ]
  },
  {
   "cell_type": "code",
   "execution_count": 13,
   "metadata": {},
   "outputs": [
    {
     "data": {
      "text/plain": [
       "Ecommerce_Provider_ID          int64\n",
       "Merchant_ID                    int64\n",
       "Merchant_Registration_Date    object\n",
       "Registered_Device_ID          object\n",
       "Gender                        object\n",
       "Age                            int64\n",
       "IP_Address                    object\n",
       "Customer_ID                    int64\n",
       "Order_ID                      object\n",
       "Date_of_Order                 object\n",
       "Order_Value_USD                int64\n",
       "Order_Source                  object\n",
       "Order_Payment_Method          object\n",
       "Fraudster                      int64\n",
       "dtype: object"
      ]
     },
     "execution_count": 13,
     "metadata": {},
     "output_type": "execute_result"
    }
   ],
   "source": [
    "train.dtypes"
   ]
  },
  {
   "cell_type": "code",
   "execution_count": 14,
   "metadata": {},
   "outputs": [
    {
     "data": {
      "text/plain": [
       "1746213    54213\n",
       "Name: Ecommerce_Provider_ID, dtype: int64"
      ]
     },
     "execution_count": 14,
     "metadata": {},
     "output_type": "execute_result"
    }
   ],
   "source": [
    "train['Ecommerce_Provider_ID'].value_counts()\n",
    "\n",
    "# since all transactions are through the same ecommerce provider, this column doesn't provide any additional value"
   ]
  },
  {
   "cell_type": "code",
   "execution_count": 15,
   "metadata": {},
   "outputs": [
    {
     "data": {
      "text/plain": [
       "RDLIARTBSYNJX    9\n",
       "QGWUOPUHKKOWQ    9\n",
       "VGGTRBYDZMCPN    9\n",
       "TCFHYPEGJMBIZ    9\n",
       "RJEAMRBBMPWEA    9\n",
       "                ..\n",
       "BSIWYGOSZYKLU    1\n",
       "JCKEYHSOMYAXM    1\n",
       "BNSEYIQQCGNAE    1\n",
       "INDMMWAJPLBGU    1\n",
       "VRSPFEQBBFVRK    1\n",
       "Name: Registered_Device_ID, Length: 51291, dtype: int64"
      ]
     },
     "execution_count": 15,
     "metadata": {},
     "output_type": "execute_result"
    }
   ],
   "source": [
    "train['Registered_Device_ID'].value_counts()\n",
    "# devices can be classified as returning or not"
   ]
  },
  {
   "cell_type": "code",
   "execution_count": 16,
   "metadata": {},
   "outputs": [
    {
     "data": {
      "text/plain": [
       "8329d64c6b85    1\n",
       "55d6486d46c6    1\n",
       "612c3934d60d    1\n",
       "c8ff329ec33f    1\n",
       "13bd046026ae    1\n",
       "               ..\n",
       "417a639f31bd    1\n",
       "8129296bade4    1\n",
       "3a41657f76e4    1\n",
       "83aedf177b87    1\n",
       "417ae95176fe    1\n",
       "Name: Order_ID, Length: 54213, dtype: int64"
      ]
     },
     "execution_count": 16,
     "metadata": {},
     "output_type": "execute_result"
    }
   ],
   "source": [
    "train['Order_ID'].value_counts()\n",
    "# all order ids are unique and hence the column can be dropped"
   ]
  },
  {
   "cell_type": "code",
   "execution_count": 17,
   "metadata": {},
   "outputs": [
    {
     "data": {
      "text/plain": [
       "154763    7\n",
       "124702    7\n",
       "111658    7\n",
       "156576    7\n",
       "113846    6\n",
       "         ..\n",
       "158719    1\n",
       "121865    1\n",
       "117771    1\n",
       "128012    1\n",
       "131072    1\n",
       "Name: Customer_ID, Length: 34081, dtype: int64"
      ]
     },
     "execution_count": 17,
     "metadata": {},
     "output_type": "execute_result"
    }
   ],
   "source": [
    "train['Customer_ID'].value_counts()\n",
    "# customers can be classified as returning customer or not"
   ]
  },
  {
   "cell_type": "code",
   "execution_count": 18,
   "metadata": {},
   "outputs": [
    {
     "data": {
      "text/plain": [
       "SEO       21884\n",
       "Ads       21259\n",
       "Direct    11070\n",
       "Name: Order_Source, dtype: int64"
      ]
     },
     "execution_count": 18,
     "metadata": {},
     "output_type": "execute_result"
    }
   ],
   "source": [
    "train['Order_Source'].value_counts()"
   ]
  },
  {
   "cell_type": "code",
   "execution_count": 19,
   "metadata": {},
   "outputs": [
    {
     "data": {
      "text/plain": [
       "0    0.90731\n",
       "1    0.09269\n",
       "Name: Fraudster, dtype: float64"
      ]
     },
     "execution_count": 19,
     "metadata": {},
     "output_type": "execute_result"
    }
   ],
   "source": [
    "train['Fraudster'].value_counts(normalize=True)"
   ]
  },
  {
   "cell_type": "code",
   "execution_count": 300,
   "metadata": {},
   "outputs": [
    {
     "data": {
      "text/plain": [
       "<matplotlib.legend.Legend at 0x29c0ca2b488>"
      ]
     },
     "execution_count": 300,
     "metadata": {},
     "output_type": "execute_result"
    },
    {
     "data": {
      "image/png": "[encoded data removed]",
      "text/plain": [
       "<Figure size 432x288 with 1 Axes>"
      ]
     },
     "metadata": {
      "needs_background": "light"
     },
     "output_type": "display_data"
    }
   ],
   "source": [
    "sns.countplot(train[\"Fraudster\"])\n",
    "plt.ylabel('count')\n",
    "plt.legend({0:'Not fraud',1:'fraud'})\n",
    "# fraud class is highly imbalanced"
   ]
  },
  {
   "cell_type": "code",
   "execution_count": 305,
   "metadata": {},
   "outputs": [
    {
     "data": {
      "text/plain": [
       "<matplotlib.axes._subplots.AxesSubplot at 0x29c0e1d0288>"
      ]
     },
     "execution_count": 305,
     "metadata": {},
     "output_type": "execute_result"
    },
    {
     "data": {
      "image/png": "[encoded data removed]",
      "text/plain": [
       "<Figure size 432x288 with 1 Axes>"
      ]
     },
     "metadata": {},
     "output_type": "display_data"
    }
   ],
   "source": [
    "sns.distplot(train['Age'],bins=25)\n",
    "# ages for the sample population is slightly right skewed"
   ]
  },
  {
   "cell_type": "code",
   "execution_count": 306,
   "metadata": {},
   "outputs": [
    {
     "data": {
      "text/plain": [
       "<matplotlib.axes._subplots.AxesSubplot at 0x29c0d1ddd08>"
      ]
     },
     "execution_count": 306,
     "metadata": {},
     "output_type": "execute_result"
    },
    {
     "data": {
      "image/png": "[encoded data removed]",
      "text/plain": [
       "<Figure size 432x288 with 1 Axes>"
      ]
     },
     "metadata": {},
     "output_type": "display_data"
    }
   ],
   "source": [
    "sns.countplot(train['Gender'])"
   ]
  },
  {
   "cell_type": "code",
   "execution_count": 20,
   "metadata": {},
   "outputs": [
    {
     "data": {
      "text/html": [
       "<div>\n",
       "<style scoped>\n",
       "    .dataframe tbody tr th:only-of-type {\n",
       "        vertical-align: middle;\n",
       "    }\n",
       "\n",
       "    .dataframe tbody tr th {\n",
       "        vertical-align: top;\n",
       "    }\n",
       "\n",
       "    .dataframe thead th {\n",
       "        text-align: right;\n",
       "    }\n",
       "</style>\n",
       "<table border=\"1\" class=\"dataframe\">\n",
       "  <thead>\n",
       "    <tr style=\"text-align: right;\">\n",
       "      <th></th>\n",
       "      <th>Ecommerce_Provider_ID</th>\n",
       "      <th>Merchant_ID</th>\n",
       "      <th>Merchant_Registration_Date</th>\n",
       "      <th>Registered_Device_ID</th>\n",
       "      <th>Gender</th>\n",
       "      <th>Age</th>\n",
       "      <th>IP_Address</th>\n",
       "      <th>Customer_ID</th>\n",
       "      <th>Order_ID</th>\n",
       "      <th>Date_of_Order</th>\n",
       "      <th>Order_Value_USD</th>\n",
       "      <th>Order_Source</th>\n",
       "      <th>Order_Payment_Method</th>\n",
       "      <th>Fraudster</th>\n",
       "    </tr>\n",
       "  </thead>\n",
       "  <tbody>\n",
       "    <tr>\n",
       "      <td>count</td>\n",
       "      <td>54213.0</td>\n",
       "      <td>54213.000000</td>\n",
       "      <td>54213</td>\n",
       "      <td>54213</td>\n",
       "      <td>54213</td>\n",
       "      <td>54213.000000</td>\n",
       "      <td>54213</td>\n",
       "      <td>54213.000000</td>\n",
       "      <td>54213</td>\n",
       "      <td>54213</td>\n",
       "      <td>54213.000000</td>\n",
       "      <td>54213</td>\n",
       "      <td>54213</td>\n",
       "      <td>54213.00000</td>\n",
       "    </tr>\n",
       "    <tr>\n",
       "      <td>unique</td>\n",
       "      <td>NaN</td>\n",
       "      <td>NaN</td>\n",
       "      <td>54213</td>\n",
       "      <td>51291</td>\n",
       "      <td>2</td>\n",
       "      <td>NaN</td>\n",
       "      <td>52028</td>\n",
       "      <td>NaN</td>\n",
       "      <td>54213</td>\n",
       "      <td>54161</td>\n",
       "      <td>NaN</td>\n",
       "      <td>3</td>\n",
       "      <td>5</td>\n",
       "      <td>NaN</td>\n",
       "    </tr>\n",
       "    <tr>\n",
       "      <td>top</td>\n",
       "      <td>NaN</td>\n",
       "      <td>NaN</td>\n",
       "      <td>2018-08-01 04:48:51</td>\n",
       "      <td>RDLIARTBSYNJX</td>\n",
       "      <td>M</td>\n",
       "      <td>NaN</td>\n",
       "      <td>107.29.25.29</td>\n",
       "      <td>NaN</td>\n",
       "      <td>8329d64c6b85</td>\n",
       "      <td>2018-06-20 17:43:54</td>\n",
       "      <td>NaN</td>\n",
       "      <td>SEO</td>\n",
       "      <td>Credit Card</td>\n",
       "      <td>NaN</td>\n",
       "    </tr>\n",
       "    <tr>\n",
       "      <td>freq</td>\n",
       "      <td>NaN</td>\n",
       "      <td>NaN</td>\n",
       "      <td>1</td>\n",
       "      <td>9</td>\n",
       "      <td>31761</td>\n",
       "      <td>NaN</td>\n",
       "      <td>9</td>\n",
       "      <td>NaN</td>\n",
       "      <td>1</td>\n",
       "      <td>2</td>\n",
       "      <td>NaN</td>\n",
       "      <td>21884</td>\n",
       "      <td>21844</td>\n",
       "      <td>NaN</td>\n",
       "    </tr>\n",
       "    <tr>\n",
       "      <td>mean</td>\n",
       "      <td>1746213.0</td>\n",
       "      <td>200395.176212</td>\n",
       "      <td>NaN</td>\n",
       "      <td>NaN</td>\n",
       "      <td>NaN</td>\n",
       "      <td>33.122240</td>\n",
       "      <td>NaN</td>\n",
       "      <td>137966.285208</td>\n",
       "      <td>NaN</td>\n",
       "      <td>NaN</td>\n",
       "      <td>92.230240</td>\n",
       "      <td>NaN</td>\n",
       "      <td>NaN</td>\n",
       "      <td>0.09269</td>\n",
       "    </tr>\n",
       "    <tr>\n",
       "      <td>std</td>\n",
       "      <td>0.0</td>\n",
       "      <td>115398.486895</td>\n",
       "      <td>NaN</td>\n",
       "      <td>NaN</td>\n",
       "      <td>NaN</td>\n",
       "      <td>8.630091</td>\n",
       "      <td>NaN</td>\n",
       "      <td>15563.516156</td>\n",
       "      <td>NaN</td>\n",
       "      <td>NaN</td>\n",
       "      <td>45.673263</td>\n",
       "      <td>NaN</td>\n",
       "      <td>NaN</td>\n",
       "      <td>0.29000</td>\n",
       "    </tr>\n",
       "    <tr>\n",
       "      <td>min</td>\n",
       "      <td>1746213.0</td>\n",
       "      <td>2.000000</td>\n",
       "      <td>NaN</td>\n",
       "      <td>NaN</td>\n",
       "      <td>NaN</td>\n",
       "      <td>18.000000</td>\n",
       "      <td>NaN</td>\n",
       "      <td>111234.000000</td>\n",
       "      <td>NaN</td>\n",
       "      <td>NaN</td>\n",
       "      <td>22.000000</td>\n",
       "      <td>NaN</td>\n",
       "      <td>NaN</td>\n",
       "      <td>0.00000</td>\n",
       "    </tr>\n",
       "    <tr>\n",
       "      <td>25%</td>\n",
       "      <td>1746213.0</td>\n",
       "      <td>100997.000000</td>\n",
       "      <td>NaN</td>\n",
       "      <td>NaN</td>\n",
       "      <td>NaN</td>\n",
       "      <td>27.000000</td>\n",
       "      <td>NaN</td>\n",
       "      <td>124471.000000</td>\n",
       "      <td>NaN</td>\n",
       "      <td>NaN</td>\n",
       "      <td>55.000000</td>\n",
       "      <td>NaN</td>\n",
       "      <td>NaN</td>\n",
       "      <td>0.00000</td>\n",
       "    </tr>\n",
       "    <tr>\n",
       "      <td>50%</td>\n",
       "      <td>1746213.0</td>\n",
       "      <td>200574.000000</td>\n",
       "      <td>NaN</td>\n",
       "      <td>NaN</td>\n",
       "      <td>NaN</td>\n",
       "      <td>32.000000</td>\n",
       "      <td>NaN</td>\n",
       "      <td>137864.000000</td>\n",
       "      <td>NaN</td>\n",
       "      <td>NaN</td>\n",
       "      <td>88.000000</td>\n",
       "      <td>NaN</td>\n",
       "      <td>NaN</td>\n",
       "      <td>0.00000</td>\n",
       "    </tr>\n",
       "    <tr>\n",
       "      <td>75%</td>\n",
       "      <td>1746213.0</td>\n",
       "      <td>300407.000000</td>\n",
       "      <td>NaN</td>\n",
       "      <td>NaN</td>\n",
       "      <td>NaN</td>\n",
       "      <td>39.000000</td>\n",
       "      <td>NaN</td>\n",
       "      <td>151405.000000</td>\n",
       "      <td>NaN</td>\n",
       "      <td>NaN</td>\n",
       "      <td>122.000000</td>\n",
       "      <td>NaN</td>\n",
       "      <td>NaN</td>\n",
       "      <td>0.00000</td>\n",
       "    </tr>\n",
       "    <tr>\n",
       "      <td>max</td>\n",
       "      <td>1746213.0</td>\n",
       "      <td>399993.000000</td>\n",
       "      <td>NaN</td>\n",
       "      <td>NaN</td>\n",
       "      <td>NaN</td>\n",
       "      <td>72.000000</td>\n",
       "      <td>NaN</td>\n",
       "      <td>165000.000000</td>\n",
       "      <td>NaN</td>\n",
       "      <td>NaN</td>\n",
       "      <td>385.000000</td>\n",
       "      <td>NaN</td>\n",
       "      <td>NaN</td>\n",
       "      <td>1.00000</td>\n",
       "    </tr>\n",
       "  </tbody>\n",
       "</table>\n",
       "</div>"
      ],
      "text/plain": [
       "        Ecommerce_Provider_ID    Merchant_ID Merchant_Registration_Date  \\\n",
       "count                 54213.0   54213.000000                      54213   \n",
       "unique                    NaN            NaN                      54213   \n",
       "top                       NaN            NaN        2018-08-01 04:48:51   \n",
       "freq                      NaN            NaN                          1   \n",
       "mean                1746213.0  200395.176212                        NaN   \n",
       "std                       0.0  115398.486895                        NaN   \n",
       "min                 1746213.0       2.000000                        NaN   \n",
       "25%                 1746213.0  100997.000000                        NaN   \n",
       "50%                 1746213.0  200574.000000                        NaN   \n",
       "75%                 1746213.0  300407.000000                        NaN   \n",
       "max                 1746213.0  399993.000000                        NaN   \n",
       "\n",
       "       Registered_Device_ID Gender           Age    IP_Address    Customer_ID  \\\n",
       "count                 54213  54213  54213.000000         54213   54213.000000   \n",
       "unique                51291      2           NaN         52028            NaN   \n",
       "top           RDLIARTBSYNJX      M           NaN  107.29.25.29            NaN   \n",
       "freq                      9  31761           NaN             9            NaN   \n",
       "mean                    NaN    NaN     33.122240           NaN  137966.285208   \n",
       "std                     NaN    NaN      8.630091           NaN   15563.516156   \n",
       "min                     NaN    NaN     18.000000           NaN  111234.000000   \n",
       "25%                     NaN    NaN     27.000000           NaN  124471.000000   \n",
       "50%                     NaN    NaN     32.000000           NaN  137864.000000   \n",
       "75%                     NaN    NaN     39.000000           NaN  151405.000000   \n",
       "max                     NaN    NaN     72.000000           NaN  165000.000000   \n",
       "\n",
       "            Order_ID        Date_of_Order  Order_Value_USD Order_Source  \\\n",
       "count          54213                54213     54213.000000        54213   \n",
       "unique         54213                54161              NaN            3   \n",
       "top     8329d64c6b85  2018-06-20 17:43:54              NaN          SEO   \n",
       "freq               1                    2              NaN        21884   \n",
       "mean             NaN                  NaN        92.230240          NaN   \n",
       "std              NaN                  NaN        45.673263          NaN   \n",
       "min              NaN                  NaN        22.000000          NaN   \n",
       "25%              NaN                  NaN        55.000000          NaN   \n",
       "50%              NaN                  NaN        88.000000          NaN   \n",
       "75%              NaN                  NaN       122.000000          NaN   \n",
       "max              NaN                  NaN       385.000000          NaN   \n",
       "\n",
       "       Order_Payment_Method    Fraudster  \n",
       "count                 54213  54213.00000  \n",
       "unique                    5          NaN  \n",
       "top             Credit Card          NaN  \n",
       "freq                  21844          NaN  \n",
       "mean                    NaN      0.09269  \n",
       "std                     NaN      0.29000  \n",
       "min                     NaN      0.00000  \n",
       "25%                     NaN      0.00000  \n",
       "50%                     NaN      0.00000  \n",
       "75%                     NaN      0.00000  \n",
       "max                     NaN      1.00000  "
      ]
     },
     "execution_count": 20,
     "metadata": {},
     "output_type": "execute_result"
    }
   ],
   "source": [
    "train.describe(include='all')"
   ]
  },
  {
   "cell_type": "code",
   "execution_count": 21,
   "metadata": {},
   "outputs": [],
   "source": [
    "train['IP_Address']=train['IP_Address'].apply(lambda x: ip_address(x)).apply(lambda x: int(x))"
   ]
  },
  {
   "cell_type": "code",
   "execution_count": 22,
   "metadata": {},
   "outputs": [
    {
     "name": "stdout",
     "output_type": "stream",
     "text": [
      "Wall time: 3min 57s\n"
     ]
    }
   ],
   "source": [
    "%%time\n",
    "train['x']=train['IP_Address'].apply(lambda x: ip_book.query('ll<=@x<=ul').index.values).apply(lambda x: x[0] if len(x) else -1)\n"
   ]
  },
  {
   "cell_type": "code",
   "execution_count": 23,
   "metadata": {},
   "outputs": [
    {
     "name": "stdout",
     "output_type": "stream",
     "text": [
      "Wall time: 58.8 s\n"
     ]
    }
   ],
   "source": [
    "%%time\n",
    "test['IP_Address']=test['IP_Address'].apply(lambda x: ip_address(x)).apply(lambda x: int(x))\n",
    "test['x']=test['IP_Address'].apply(lambda x: ip_book.query('ll<=@x<=ul').index.values).apply(lambda x: x[0] if len(x) else -1)\n"
   ]
  },
  {
   "cell_type": "markdown",
   "metadata": {},
   "source": [
    "# finalizing dataframes"
   ]
  },
  {
   "cell_type": "code",
   "execution_count": 225,
   "metadata": {},
   "outputs": [],
   "source": [
    "to_drop=['x','ll','ul','lower_bound_ip_address','upper_bound_ip_address','Ecommerce_Provider_ID','Order_ID','Merchant_Registration_Date','Date_of_Order']\n",
    "final_1=pd.merge(train.drop('IP_Address',1),ip_book.filter(regex=r'^((?!.?ip_range_).*)$'),left_on='x',right_index=True,how='left').drop(to_drop,1)\n",
    "final_2=pd.merge(test.drop('IP_Address',1),ip_book.filter(regex=r'^((?!.?ip_range_).*)$'),left_on='x',right_index=True,how='left').drop(to_drop,1)\n"
   ]
  },
  {
   "cell_type": "code",
   "execution_count": 226,
   "metadata": {},
   "outputs": [
    {
     "data": {
      "text/html": [
       "<div>\n",
       "<style scoped>\n",
       "    .dataframe tbody tr th:only-of-type {\n",
       "        vertical-align: middle;\n",
       "    }\n",
       "\n",
       "    .dataframe tbody tr th {\n",
       "        vertical-align: top;\n",
       "    }\n",
       "\n",
       "    .dataframe thead th {\n",
       "        text-align: right;\n",
       "    }\n",
       "</style>\n",
       "<table border=\"1\" class=\"dataframe\">\n",
       "  <thead>\n",
       "    <tr style=\"text-align: right;\">\n",
       "      <th></th>\n",
       "      <th>Merchant_ID</th>\n",
       "      <th>Registered_Device_ID</th>\n",
       "      <th>Gender</th>\n",
       "      <th>Age</th>\n",
       "      <th>Customer_ID</th>\n",
       "      <th>Order_Value_USD</th>\n",
       "      <th>Order_Source</th>\n",
       "      <th>Order_Payment_Method</th>\n",
       "      <th>Fraudster</th>\n",
       "      <th>country</th>\n",
       "    </tr>\n",
       "  </thead>\n",
       "  <tbody>\n",
       "    <tr>\n",
       "      <td>0</td>\n",
       "      <td>50448</td>\n",
       "      <td>VATQMMZTVOZUT</td>\n",
       "      <td>F</td>\n",
       "      <td>39</td>\n",
       "      <td>129697</td>\n",
       "      <td>90</td>\n",
       "      <td>SEO</td>\n",
       "      <td>Debit Card</td>\n",
       "      <td>0</td>\n",
       "      <td>United States</td>\n",
       "    </tr>\n",
       "    <tr>\n",
       "      <td>1</td>\n",
       "      <td>338754</td>\n",
       "      <td>LJCILLBRQZNKS</td>\n",
       "      <td>M</td>\n",
       "      <td>35</td>\n",
       "      <td>117390</td>\n",
       "      <td>98</td>\n",
       "      <td>SEO</td>\n",
       "      <td>Internet Banking</td>\n",
       "      <td>0</td>\n",
       "      <td>United Kingdom</td>\n",
       "    </tr>\n",
       "    <tr>\n",
       "      <td>2</td>\n",
       "      <td>291127</td>\n",
       "      <td>JFVHSUGKDAYZV</td>\n",
       "      <td>F</td>\n",
       "      <td>40</td>\n",
       "      <td>120162</td>\n",
       "      <td>95</td>\n",
       "      <td>SEO</td>\n",
       "      <td>Credit Card</td>\n",
       "      <td>0</td>\n",
       "      <td>Japan</td>\n",
       "    </tr>\n",
       "    <tr>\n",
       "      <td>3</td>\n",
       "      <td>319919</td>\n",
       "      <td>WFRXMPLQYXRMY</td>\n",
       "      <td>M</td>\n",
       "      <td>37</td>\n",
       "      <td>128228</td>\n",
       "      <td>100</td>\n",
       "      <td>Direct</td>\n",
       "      <td>E-wallet</td>\n",
       "      <td>0</td>\n",
       "      <td>Austria</td>\n",
       "    </tr>\n",
       "    <tr>\n",
       "      <td>4</td>\n",
       "      <td>195911</td>\n",
       "      <td>GGHKWMSWHCMID</td>\n",
       "      <td>F</td>\n",
       "      <td>27</td>\n",
       "      <td>136029</td>\n",
       "      <td>78</td>\n",
       "      <td>SEO</td>\n",
       "      <td>E-wallet</td>\n",
       "      <td>0</td>\n",
       "      <td>China</td>\n",
       "    </tr>\n",
       "  </tbody>\n",
       "</table>\n",
       "</div>"
      ],
      "text/plain": [
       "   Merchant_ID Registered_Device_ID Gender  Age  Customer_ID  Order_Value_USD  \\\n",
       "0        50448        VATQMMZTVOZUT      F   39       129697               90   \n",
       "1       338754        LJCILLBRQZNKS      M   35       117390               98   \n",
       "2       291127        JFVHSUGKDAYZV      F   40       120162               95   \n",
       "3       319919        WFRXMPLQYXRMY      M   37       128228              100   \n",
       "4       195911        GGHKWMSWHCMID      F   27       136029               78   \n",
       "\n",
       "  Order_Source Order_Payment_Method  Fraudster         country  \n",
       "0          SEO           Debit Card          0   United States  \n",
       "1          SEO     Internet Banking          0  United Kingdom  \n",
       "2          SEO          Credit Card          0           Japan  \n",
       "3       Direct             E-wallet          0         Austria  \n",
       "4          SEO             E-wallet          0           China  "
      ]
     },
     "execution_count": 226,
     "metadata": {},
     "output_type": "execute_result"
    }
   ],
   "source": [
    "final_1.head()\n"
   ]
  },
  {
   "cell_type": "code",
   "execution_count": 227,
   "metadata": {},
   "outputs": [
    {
     "name": "stdout",
     "output_type": "stream",
     "text": [
      "(54213, 10)\n",
      "(13554, 9)\n"
     ]
    }
   ],
   "source": [
    "print(final_1.shape)\n",
    "print(final_2.shape)"
   ]
  },
  {
   "cell_type": "code",
   "execution_count": 228,
   "metadata": {},
   "outputs": [
    {
     "data": {
      "text/plain": [
       "Fraudster  country          \n",
       "0          United States        18991\n",
       "           China                 3902\n",
       "           Japan                 2377\n",
       "           United Kingdom        1447\n",
       "           Korea Republic of     1291\n",
       "                                ...  \n",
       "1          Macedonia                1\n",
       "           Malaysia                 1\n",
       "           Malta                    1\n",
       "           Sudan                    1\n",
       "           Turkmenistan             1\n",
       "Name: country, Length: 196, dtype: int64"
      ]
     },
     "execution_count": 228,
     "metadata": {},
     "output_type": "execute_result"
    }
   ],
   "source": [
    "#final_1.loc[final_1['Fraudster']==1,['country']].describe()\n",
    "final_1.groupby('Fraudster')['country'].value_counts()"
   ]
  },
  {
   "cell_type": "markdown",
   "metadata": {},
   "source": [
    "# Train_test_split"
   ]
  },
  {
   "cell_type": "code",
   "execution_count": 229,
   "metadata": {},
   "outputs": [],
   "source": [
    "# train test split\n",
    "X,y=final_1.loc[:,final_1.columns!='Fraudster'],final_1['Fraudster']\n",
    "X_test,X_train,y_test,y_train=train_test_split(X,y,test_size=0.9,random_state=123)\n"
   ]
  },
  {
   "cell_type": "code",
   "execution_count": 217,
   "metadata": {},
   "outputs": [
    {
     "data": {
      "text/plain": [
       "\"# converting columns to correct type\\nX_train['Merchant_Registration_Date']=X_train['Merchant_Registration_Date'].apply(lambda x:datetime.strptime(x,'%Y-%m-%d %H:%M:%S'))\\nX_test['Merchant_Registration_Date']=X_test['Merchant_Registration_Date'].apply(lambda x:datetime.strptime(x,'%Y-%m-%d %H:%M:%S'))\\n\\nX_train['Date_of_Order']=X_train['Date_of_Order'].apply(lambda x:datetime.strptime(x,'%Y-%m-%d %H:%M:%S'))\\nX_test['Date_of_Order']=X_test['Date_of_Order'].apply(lambda x:datetime.strptime(x,'%Y-%m-%d %H:%M:%S'))\""
      ]
     },
     "execution_count": 217,
     "metadata": {},
     "output_type": "execute_result"
    }
   ],
   "source": [
    "'''# converting columns to correct type\n",
    "X_train['Merchant_Registration_Date']=X_train['Merchant_Registration_Date'].apply(lambda x:datetime.strptime(x,'%Y-%m-%d %H:%M:%S'))\n",
    "X_test['Merchant_Registration_Date']=X_test['Merchant_Registration_Date'].apply(lambda x:datetime.strptime(x,'%Y-%m-%d %H:%M:%S'))\n",
    "\n",
    "X_train['Date_of_Order']=X_train['Date_of_Order'].apply(lambda x:datetime.strptime(x,'%Y-%m-%d %H:%M:%S'))\n",
    "X_test['Date_of_Order']=X_test['Date_of_Order'].apply(lambda x:datetime.strptime(x,'%Y-%m-%d %H:%M:%S'))'''"
   ]
  },
  {
   "cell_type": "code",
   "execution_count": 230,
   "metadata": {},
   "outputs": [],
   "source": [
    "# identify frequent devices and customers\n",
    "def fun1(x):\n",
    "    if x>1:\n",
    "        return 1\n",
    "    else:\n",
    "        return 0\n",
    "\n",
    "\n",
    "def fun2(A,x):\n",
    "    'A is dataframe'\n",
    "    'x=list of columns for which count is needed'\n",
    "    f2=A\n",
    "    for i in x:\n",
    "        a=pd.DataFrame(A[i].value_counts()).reset_index()\n",
    "        a.columns=[i,i+'_count']\n",
    "        f2=pd.merge(f2,a,on=i,how='left')\n",
    "        f2.drop(i,axis=1,inplace=True)\n",
    "    return f2\n",
    "\n",
    "\n",
    "\n",
    "\n",
    "X_train=fun2(X_train,['Registered_Device_ID','Customer_ID'])\n",
    "X_test=fun2(X_test,['Registered_Device_ID','Customer_ID'])    \n",
    "final_2=fun2(final_2,['Registered_Device_ID','Customer_ID'])\n",
    "\n"
   ]
  },
  {
   "cell_type": "code",
   "execution_count": 231,
   "metadata": {},
   "outputs": [
    {
     "data": {
      "text/html": [
       "<div>\n",
       "<style scoped>\n",
       "    .dataframe tbody tr th:only-of-type {\n",
       "        vertical-align: middle;\n",
       "    }\n",
       "\n",
       "    .dataframe tbody tr th {\n",
       "        vertical-align: top;\n",
       "    }\n",
       "\n",
       "    .dataframe thead th {\n",
       "        text-align: right;\n",
       "    }\n",
       "</style>\n",
       "<table border=\"1\" class=\"dataframe\">\n",
       "  <thead>\n",
       "    <tr style=\"text-align: right;\">\n",
       "      <th></th>\n",
       "      <th>Merchant_ID</th>\n",
       "      <th>Gender</th>\n",
       "      <th>Age</th>\n",
       "      <th>Order_Value_USD</th>\n",
       "      <th>Order_Source</th>\n",
       "      <th>Order_Payment_Method</th>\n",
       "      <th>country</th>\n",
       "      <th>repeat_customer</th>\n",
       "      <th>repeat_device</th>\n",
       "    </tr>\n",
       "  </thead>\n",
       "  <tbody>\n",
       "    <tr>\n",
       "      <td>0</td>\n",
       "      <td>361689</td>\n",
       "      <td>M</td>\n",
       "      <td>42</td>\n",
       "      <td>48</td>\n",
       "      <td>Ads</td>\n",
       "      <td>Cash On Delivery</td>\n",
       "      <td>Germany</td>\n",
       "      <td>1</td>\n",
       "      <td>0</td>\n",
       "    </tr>\n",
       "    <tr>\n",
       "      <td>1</td>\n",
       "      <td>389557</td>\n",
       "      <td>F</td>\n",
       "      <td>39</td>\n",
       "      <td>58</td>\n",
       "      <td>SEO</td>\n",
       "      <td>Credit Card</td>\n",
       "      <td>NaN</td>\n",
       "      <td>1</td>\n",
       "      <td>0</td>\n",
       "    </tr>\n",
       "    <tr>\n",
       "      <td>2</td>\n",
       "      <td>116849</td>\n",
       "      <td>F</td>\n",
       "      <td>25</td>\n",
       "      <td>270</td>\n",
       "      <td>SEO</td>\n",
       "      <td>Credit Card</td>\n",
       "      <td>France</td>\n",
       "      <td>0</td>\n",
       "      <td>0</td>\n",
       "    </tr>\n",
       "    <tr>\n",
       "      <td>3</td>\n",
       "      <td>101971</td>\n",
       "      <td>M</td>\n",
       "      <td>21</td>\n",
       "      <td>112</td>\n",
       "      <td>Ads</td>\n",
       "      <td>Internet Banking</td>\n",
       "      <td>Thailand</td>\n",
       "      <td>1</td>\n",
       "      <td>0</td>\n",
       "    </tr>\n",
       "    <tr>\n",
       "      <td>4</td>\n",
       "      <td>283208</td>\n",
       "      <td>M</td>\n",
       "      <td>20</td>\n",
       "      <td>72</td>\n",
       "      <td>Ads</td>\n",
       "      <td>Debit Card</td>\n",
       "      <td>Germany</td>\n",
       "      <td>0</td>\n",
       "      <td>0</td>\n",
       "    </tr>\n",
       "  </tbody>\n",
       "</table>\n",
       "</div>"
      ],
      "text/plain": [
       "   Merchant_ID Gender  Age  Order_Value_USD Order_Source Order_Payment_Method  \\\n",
       "0       361689      M   42               48          Ads     Cash On Delivery   \n",
       "1       389557      F   39               58          SEO          Credit Card   \n",
       "2       116849      F   25              270          SEO          Credit Card   \n",
       "3       101971      M   21              112          Ads     Internet Banking   \n",
       "4       283208      M   20               72          Ads           Debit Card   \n",
       "\n",
       "    country  repeat_customer  repeat_device  \n",
       "0   Germany                1              0  \n",
       "1       NaN                1              0  \n",
       "2    France                0              0  \n",
       "3  Thailand                1              0  \n",
       "4   Germany                0              0  "
      ]
     },
     "execution_count": 231,
     "metadata": {},
     "output_type": "execute_result"
    }
   ],
   "source": [
    "X_train['repeat_customer']=X_train['Customer_ID_count'].apply(fun1)\n",
    "X_train['repeat_device']=X_train['Registered_Device_ID_count'].apply(fun1)\n",
    "X_train.drop(['Customer_ID_count','Registered_Device_ID_count'],axis=1,inplace=True)\n",
    "X_train.head()"
   ]
  },
  {
   "cell_type": "code",
   "execution_count": 232,
   "metadata": {},
   "outputs": [
    {
     "data": {
      "text/html": [
       "<div>\n",
       "<style scoped>\n",
       "    .dataframe tbody tr th:only-of-type {\n",
       "        vertical-align: middle;\n",
       "    }\n",
       "\n",
       "    .dataframe tbody tr th {\n",
       "        vertical-align: top;\n",
       "    }\n",
       "\n",
       "    .dataframe thead th {\n",
       "        text-align: right;\n",
       "    }\n",
       "</style>\n",
       "<table border=\"1\" class=\"dataframe\">\n",
       "  <thead>\n",
       "    <tr style=\"text-align: right;\">\n",
       "      <th></th>\n",
       "      <th>Merchant_ID</th>\n",
       "      <th>Gender</th>\n",
       "      <th>Age</th>\n",
       "      <th>Order_Value_USD</th>\n",
       "      <th>Order_Source</th>\n",
       "      <th>Order_Payment_Method</th>\n",
       "      <th>country</th>\n",
       "      <th>repeat_customer</th>\n",
       "      <th>repeat_device</th>\n",
       "    </tr>\n",
       "  </thead>\n",
       "  <tbody>\n",
       "    <tr>\n",
       "      <td>0</td>\n",
       "      <td>201001</td>\n",
       "      <td>M</td>\n",
       "      <td>23</td>\n",
       "      <td>125</td>\n",
       "      <td>SEO</td>\n",
       "      <td>E-wallet</td>\n",
       "      <td>China</td>\n",
       "      <td>0</td>\n",
       "      <td>0</td>\n",
       "    </tr>\n",
       "    <tr>\n",
       "      <td>1</td>\n",
       "      <td>169867</td>\n",
       "      <td>M</td>\n",
       "      <td>35</td>\n",
       "      <td>40</td>\n",
       "      <td>Direct</td>\n",
       "      <td>Cash On Delivery</td>\n",
       "      <td>Canada</td>\n",
       "      <td>0</td>\n",
       "      <td>0</td>\n",
       "    </tr>\n",
       "    <tr>\n",
       "      <td>2</td>\n",
       "      <td>3999</td>\n",
       "      <td>M</td>\n",
       "      <td>38</td>\n",
       "      <td>102</td>\n",
       "      <td>SEO</td>\n",
       "      <td>Debit Card</td>\n",
       "      <td>NaN</td>\n",
       "      <td>1</td>\n",
       "      <td>0</td>\n",
       "    </tr>\n",
       "    <tr>\n",
       "      <td>3</td>\n",
       "      <td>262131</td>\n",
       "      <td>F</td>\n",
       "      <td>29</td>\n",
       "      <td>115</td>\n",
       "      <td>SEO</td>\n",
       "      <td>Credit Card</td>\n",
       "      <td>United States</td>\n",
       "      <td>0</td>\n",
       "      <td>0</td>\n",
       "    </tr>\n",
       "    <tr>\n",
       "      <td>4</td>\n",
       "      <td>20588</td>\n",
       "      <td>M</td>\n",
       "      <td>26</td>\n",
       "      <td>112</td>\n",
       "      <td>SEO</td>\n",
       "      <td>Credit Card</td>\n",
       "      <td>NaN</td>\n",
       "      <td>0</td>\n",
       "      <td>0</td>\n",
       "    </tr>\n",
       "  </tbody>\n",
       "</table>\n",
       "</div>"
      ],
      "text/plain": [
       "   Merchant_ID Gender  Age  Order_Value_USD Order_Source Order_Payment_Method  \\\n",
       "0       201001      M   23              125          SEO             E-wallet   \n",
       "1       169867      M   35               40       Direct     Cash On Delivery   \n",
       "2         3999      M   38              102          SEO           Debit Card   \n",
       "3       262131      F   29              115          SEO          Credit Card   \n",
       "4        20588      M   26              112          SEO          Credit Card   \n",
       "\n",
       "         country  repeat_customer  repeat_device  \n",
       "0          China                0              0  \n",
       "1         Canada                0              0  \n",
       "2            NaN                1              0  \n",
       "3  United States                0              0  \n",
       "4            NaN                0              0  "
      ]
     },
     "execution_count": 232,
     "metadata": {},
     "output_type": "execute_result"
    }
   ],
   "source": [
    "X_test['repeat_customer']=X_test['Customer_ID_count'].apply(fun1)\n",
    "X_test['repeat_device']=X_test['Registered_Device_ID_count'].apply(fun1)\n",
    "X_test.drop(['Customer_ID_count','Registered_Device_ID_count'],axis=1,inplace=True)\n",
    "X_test.head()"
   ]
  },
  {
   "cell_type": "code",
   "execution_count": 233,
   "metadata": {},
   "outputs": [
    {
     "data": {
      "text/html": [
       "<div>\n",
       "<style scoped>\n",
       "    .dataframe tbody tr th:only-of-type {\n",
       "        vertical-align: middle;\n",
       "    }\n",
       "\n",
       "    .dataframe tbody tr th {\n",
       "        vertical-align: top;\n",
       "    }\n",
       "\n",
       "    .dataframe thead th {\n",
       "        text-align: right;\n",
       "    }\n",
       "</style>\n",
       "<table border=\"1\" class=\"dataframe\">\n",
       "  <thead>\n",
       "    <tr style=\"text-align: right;\">\n",
       "      <th></th>\n",
       "      <th>Merchant_ID</th>\n",
       "      <th>Gender</th>\n",
       "      <th>Age</th>\n",
       "      <th>Order_Value_USD</th>\n",
       "      <th>Order_Source</th>\n",
       "      <th>Order_Payment_Method</th>\n",
       "      <th>country</th>\n",
       "      <th>repeat_customer</th>\n",
       "      <th>repeat_device</th>\n",
       "    </tr>\n",
       "  </thead>\n",
       "  <tbody>\n",
       "    <tr>\n",
       "      <td>0</td>\n",
       "      <td>53637</td>\n",
       "      <td>F</td>\n",
       "      <td>40</td>\n",
       "      <td>60</td>\n",
       "      <td>SEO</td>\n",
       "      <td>Credit Card</td>\n",
       "      <td>United States</td>\n",
       "      <td>0</td>\n",
       "      <td>0</td>\n",
       "    </tr>\n",
       "    <tr>\n",
       "      <td>1</td>\n",
       "      <td>243517</td>\n",
       "      <td>M</td>\n",
       "      <td>39</td>\n",
       "      <td>28</td>\n",
       "      <td>SEO</td>\n",
       "      <td>Credit Card</td>\n",
       "      <td>Australia</td>\n",
       "      <td>1</td>\n",
       "      <td>0</td>\n",
       "    </tr>\n",
       "    <tr>\n",
       "      <td>2</td>\n",
       "      <td>343640</td>\n",
       "      <td>M</td>\n",
       "      <td>23</td>\n",
       "      <td>75</td>\n",
       "      <td>Ads</td>\n",
       "      <td>Debit Card</td>\n",
       "      <td>Ukraine</td>\n",
       "      <td>0</td>\n",
       "      <td>0</td>\n",
       "    </tr>\n",
       "    <tr>\n",
       "      <td>3</td>\n",
       "      <td>69889</td>\n",
       "      <td>M</td>\n",
       "      <td>34</td>\n",
       "      <td>98</td>\n",
       "      <td>SEO</td>\n",
       "      <td>Credit Card</td>\n",
       "      <td>United States</td>\n",
       "      <td>0</td>\n",
       "      <td>0</td>\n",
       "    </tr>\n",
       "    <tr>\n",
       "      <td>4</td>\n",
       "      <td>125706</td>\n",
       "      <td>M</td>\n",
       "      <td>20</td>\n",
       "      <td>35</td>\n",
       "      <td>SEO</td>\n",
       "      <td>Credit Card</td>\n",
       "      <td>United States</td>\n",
       "      <td>0</td>\n",
       "      <td>0</td>\n",
       "    </tr>\n",
       "  </tbody>\n",
       "</table>\n",
       "</div>"
      ],
      "text/plain": [
       "   Merchant_ID Gender  Age  Order_Value_USD Order_Source Order_Payment_Method  \\\n",
       "0        53637      F   40               60          SEO          Credit Card   \n",
       "1       243517      M   39               28          SEO          Credit Card   \n",
       "2       343640      M   23               75          Ads           Debit Card   \n",
       "3        69889      M   34               98          SEO          Credit Card   \n",
       "4       125706      M   20               35          SEO          Credit Card   \n",
       "\n",
       "         country  repeat_customer  repeat_device  \n",
       "0  United States                0              0  \n",
       "1      Australia                1              0  \n",
       "2        Ukraine                0              0  \n",
       "3  United States                0              0  \n",
       "4  United States                0              0  "
      ]
     },
     "execution_count": 233,
     "metadata": {},
     "output_type": "execute_result"
    }
   ],
   "source": [
    "final_2['repeat_customer']=final_2['Customer_ID_count'].apply(fun1)\n",
    "final_2['repeat_device']=final_2['Registered_Device_ID_count'].apply(fun1)\n",
    "final_2.drop(['Customer_ID_count','Registered_Device_ID_count'],axis=1,inplace=True)\n",
    "final_2.head()"
   ]
  },
  {
   "cell_type": "code",
   "execution_count": 234,
   "metadata": {},
   "outputs": [
    {
     "data": {
      "text/plain": [
       "Merchant_ID                0\n",
       "Gender                     0\n",
       "Age                        0\n",
       "Order_Value_USD            0\n",
       "Order_Source               0\n",
       "Order_Payment_Method       0\n",
       "country                 7053\n",
       "repeat_customer            0\n",
       "repeat_device              0\n",
       "dtype: int64"
      ]
     },
     "execution_count": 234,
     "metadata": {},
     "output_type": "execute_result"
    }
   ],
   "source": [
    "X_train.isnull().sum()"
   ]
  },
  {
   "cell_type": "code",
   "execution_count": 237,
   "metadata": {},
   "outputs": [],
   "source": [
    "numattr=['Age','Order_Value_USD']\n",
    "catattr=X_train.columns.difference(numattr)"
   ]
  },
  {
   "cell_type": "code",
   "execution_count": 238,
   "metadata": {},
   "outputs": [],
   "source": [
    "# Imputing missing values\n",
    "imp=SimpleImputer(strategy='most_frequent')\n",
    "imp.fit(X_train[catattr])\n",
    "X_train[catattr]=imp.transform(X_train[catattr])\n",
    "X_test[catattr]=imp.transform(X_test[catattr])\n",
    "final_2[catattr]=imp.transform(final_2[catattr])"
   ]
  },
  {
   "cell_type": "code",
   "execution_count": 239,
   "metadata": {},
   "outputs": [
    {
     "data": {
      "text/plain": [
       "Merchant_ID              int64\n",
       "Gender                  object\n",
       "Age                      int64\n",
       "Order_Value_USD          int64\n",
       "Order_Source            object\n",
       "Order_Payment_Method    object\n",
       "country                 object\n",
       "repeat_customer          int64\n",
       "repeat_device            int64\n",
       "dtype: object"
      ]
     },
     "execution_count": 239,
     "metadata": {},
     "output_type": "execute_result"
    }
   ],
   "source": [
    "X_train.dtypes"
   ]
  },
  {
   "cell_type": "code",
   "execution_count": 240,
   "metadata": {},
   "outputs": [
    {
     "data": {
      "text/html": [
       "<div>\n",
       "<style scoped>\n",
       "    .dataframe tbody tr th:only-of-type {\n",
       "        vertical-align: middle;\n",
       "    }\n",
       "\n",
       "    .dataframe tbody tr th {\n",
       "        vertical-align: top;\n",
       "    }\n",
       "\n",
       "    .dataframe thead th {\n",
       "        text-align: right;\n",
       "    }\n",
       "</style>\n",
       "<table border=\"1\" class=\"dataframe\">\n",
       "  <thead>\n",
       "    <tr style=\"text-align: right;\">\n",
       "      <th></th>\n",
       "      <th>Merchant_ID</th>\n",
       "      <th>Gender</th>\n",
       "      <th>Age</th>\n",
       "      <th>Order_Value_USD</th>\n",
       "      <th>Order_Source</th>\n",
       "      <th>Order_Payment_Method</th>\n",
       "      <th>repeat_customer</th>\n",
       "      <th>repeat_device</th>\n",
       "      <th>frequent_country</th>\n",
       "    </tr>\n",
       "  </thead>\n",
       "  <tbody>\n",
       "    <tr>\n",
       "      <td>0</td>\n",
       "      <td>361689</td>\n",
       "      <td>M</td>\n",
       "      <td>42</td>\n",
       "      <td>48</td>\n",
       "      <td>Ads</td>\n",
       "      <td>Cash On Delivery</td>\n",
       "      <td>1</td>\n",
       "      <td>0</td>\n",
       "      <td>1</td>\n",
       "    </tr>\n",
       "    <tr>\n",
       "      <td>1</td>\n",
       "      <td>389557</td>\n",
       "      <td>F</td>\n",
       "      <td>39</td>\n",
       "      <td>58</td>\n",
       "      <td>SEO</td>\n",
       "      <td>Credit Card</td>\n",
       "      <td>1</td>\n",
       "      <td>0</td>\n",
       "      <td>1</td>\n",
       "    </tr>\n",
       "    <tr>\n",
       "      <td>2</td>\n",
       "      <td>116849</td>\n",
       "      <td>F</td>\n",
       "      <td>25</td>\n",
       "      <td>270</td>\n",
       "      <td>SEO</td>\n",
       "      <td>Credit Card</td>\n",
       "      <td>0</td>\n",
       "      <td>0</td>\n",
       "      <td>1</td>\n",
       "    </tr>\n",
       "    <tr>\n",
       "      <td>3</td>\n",
       "      <td>101971</td>\n",
       "      <td>M</td>\n",
       "      <td>21</td>\n",
       "      <td>112</td>\n",
       "      <td>Ads</td>\n",
       "      <td>Internet Banking</td>\n",
       "      <td>1</td>\n",
       "      <td>0</td>\n",
       "      <td>0</td>\n",
       "    </tr>\n",
       "    <tr>\n",
       "      <td>4</td>\n",
       "      <td>283208</td>\n",
       "      <td>M</td>\n",
       "      <td>20</td>\n",
       "      <td>72</td>\n",
       "      <td>Ads</td>\n",
       "      <td>Debit Card</td>\n",
       "      <td>0</td>\n",
       "      <td>0</td>\n",
       "      <td>1</td>\n",
       "    </tr>\n",
       "  </tbody>\n",
       "</table>\n",
       "</div>"
      ],
      "text/plain": [
       "   Merchant_ID Gender  Age  Order_Value_USD Order_Source Order_Payment_Method  \\\n",
       "0       361689      M   42               48          Ads     Cash On Delivery   \n",
       "1       389557      F   39               58          SEO          Credit Card   \n",
       "2       116849      F   25              270          SEO          Credit Card   \n",
       "3       101971      M   21              112          Ads     Internet Banking   \n",
       "4       283208      M   20               72          Ads           Debit Card   \n",
       "\n",
       "   repeat_customer  repeat_device  frequent_country  \n",
       "0                1              0                 1  \n",
       "1                1              0                 1  \n",
       "2                0              0                 1  \n",
       "3                1              0                 0  \n",
       "4                0              0                 1  "
      ]
     },
     "execution_count": 240,
     "metadata": {},
     "output_type": "execute_result"
    }
   ],
   "source": [
    "def fun3(x):\n",
    "    if x>1000:\n",
    "        return 1\n",
    "    else:\n",
    "        return 0\n",
    "X_train=fun2(X_train,['country'])\n",
    "X_train['frequent_country']=X_train['country_count'].apply(fun3)\n",
    "X_train.drop('country_count',axis=1,inplace=True)\n",
    "\n",
    "X_train.head()"
   ]
  },
  {
   "cell_type": "code",
   "execution_count": 241,
   "metadata": {},
   "outputs": [],
   "source": [
    "X_test=fun2(X_test,['country'])\n",
    "X_test['frequent_country']=X_test['country_count'].apply(fun3)\n",
    "X_test.drop('country_count',axis=1,inplace=True)\n"
   ]
  },
  {
   "cell_type": "code",
   "execution_count": 242,
   "metadata": {},
   "outputs": [],
   "source": [
    "final_2=fun2(final_2,['country'])\n",
    "final_2['frequent_country']=final_2['country_count'].apply(fun3)\n",
    "final_2.drop('country_count',axis=1,inplace=True)\n"
   ]
  },
  {
   "cell_type": "code",
   "execution_count": 243,
   "metadata": {},
   "outputs": [],
   "source": [
    "X_train.set_index('Merchant_ID',inplace=True)\n",
    "X_test.set_index('Merchant_ID',inplace=True)\n",
    "final_2.set_index('Merchant_ID',inplace=True)"
   ]
  },
  {
   "cell_type": "code",
   "execution_count": 244,
   "metadata": {},
   "outputs": [
    {
     "name": "stdout",
     "output_type": "stream",
     "text": [
      "Index(['Gender', 'Order_Payment_Method', 'Order_Source', 'frequent_country',\n",
      "       'repeat_customer', 'repeat_device'],\n",
      "      dtype='object')\n"
     ]
    }
   ],
   "source": [
    "# converting variables to correct datatypes\n",
    "numattr=['Age','Order_Value_USD']\n",
    "catattr=X_train.columns.difference(numattr)\n",
    "print(catattr)"
   ]
  },
  {
   "cell_type": "code",
   "execution_count": 245,
   "metadata": {},
   "outputs": [],
   "source": [
    "#Scaling numeric variables\n",
    "scaler=StandardScaler()\n",
    "scaler.fit(X_train[numattr])\n",
    "X_train[numattr]=scaler.transform(X_train[numattr])\n",
    "X_test[numattr]=scaler.transform(X_test[numattr])\n",
    "final_2[numattr]=scaler.transform(final_2[numattr])"
   ]
  },
  {
   "cell_type": "code",
   "execution_count": 246,
   "metadata": {},
   "outputs": [],
   "source": [
    "# dummification\n",
    "df1=pd.get_dummies(X_train[catattr],drop_first=True)\n",
    "df2=X_train[numattr]\n",
    "X_train=pd.concat([df2,df1],axis=1)\n",
    "\n",
    "\n",
    "df1=pd.get_dummies(X_test[catattr],drop_first=True)\n",
    "df2=X_test[numattr]\n",
    "X_test=pd.concat([df2,df1],axis=1)\n",
    "\n",
    "\n",
    "df1=pd.get_dummies(final_2[catattr],drop_first=True)\n",
    "df2=final_2[numattr]\n",
    "final_2=pd.concat([df2,df1],axis=1)\n"
   ]
  },
  {
   "cell_type": "code",
   "execution_count": 247,
   "metadata": {},
   "outputs": [
    {
     "data": {
      "text/html": [
       "<div>\n",
       "<style scoped>\n",
       "    .dataframe tbody tr th:only-of-type {\n",
       "        vertical-align: middle;\n",
       "    }\n",
       "\n",
       "    .dataframe tbody tr th {\n",
       "        vertical-align: top;\n",
       "    }\n",
       "\n",
       "    .dataframe thead th {\n",
       "        text-align: right;\n",
       "    }\n",
       "</style>\n",
       "<table border=\"1\" class=\"dataframe\">\n",
       "  <thead>\n",
       "    <tr style=\"text-align: right;\">\n",
       "      <th></th>\n",
       "      <th>Age</th>\n",
       "      <th>Order_Value_USD</th>\n",
       "      <th>frequent_country</th>\n",
       "      <th>repeat_customer</th>\n",
       "      <th>repeat_device</th>\n",
       "      <th>Gender_M</th>\n",
       "      <th>Order_Payment_Method_Credit Card</th>\n",
       "      <th>Order_Payment_Method_Debit Card</th>\n",
       "      <th>Order_Payment_Method_E-wallet</th>\n",
       "      <th>Order_Payment_Method_Internet Banking</th>\n",
       "      <th>Order_Source_Direct</th>\n",
       "      <th>Order_Source_SEO</th>\n",
       "    </tr>\n",
       "    <tr>\n",
       "      <th>Merchant_ID</th>\n",
       "      <th></th>\n",
       "      <th></th>\n",
       "      <th></th>\n",
       "      <th></th>\n",
       "      <th></th>\n",
       "      <th></th>\n",
       "      <th></th>\n",
       "      <th></th>\n",
       "      <th></th>\n",
       "      <th></th>\n",
       "      <th></th>\n",
       "      <th></th>\n",
       "    </tr>\n",
       "  </thead>\n",
       "  <tbody>\n",
       "    <tr>\n",
       "      <td>361689</td>\n",
       "      <td>1.028894</td>\n",
       "      <td>-0.968230</td>\n",
       "      <td>1</td>\n",
       "      <td>1</td>\n",
       "      <td>0</td>\n",
       "      <td>1</td>\n",
       "      <td>0</td>\n",
       "      <td>0</td>\n",
       "      <td>0</td>\n",
       "      <td>0</td>\n",
       "      <td>0</td>\n",
       "      <td>0</td>\n",
       "    </tr>\n",
       "    <tr>\n",
       "      <td>389557</td>\n",
       "      <td>0.681385</td>\n",
       "      <td>-0.749279</td>\n",
       "      <td>1</td>\n",
       "      <td>1</td>\n",
       "      <td>0</td>\n",
       "      <td>0</td>\n",
       "      <td>1</td>\n",
       "      <td>0</td>\n",
       "      <td>0</td>\n",
       "      <td>0</td>\n",
       "      <td>0</td>\n",
       "      <td>1</td>\n",
       "    </tr>\n",
       "    <tr>\n",
       "      <td>116849</td>\n",
       "      <td>-0.940326</td>\n",
       "      <td>3.892490</td>\n",
       "      <td>1</td>\n",
       "      <td>0</td>\n",
       "      <td>0</td>\n",
       "      <td>0</td>\n",
       "      <td>1</td>\n",
       "      <td>0</td>\n",
       "      <td>0</td>\n",
       "      <td>0</td>\n",
       "      <td>0</td>\n",
       "      <td>1</td>\n",
       "    </tr>\n",
       "    <tr>\n",
       "      <td>101971</td>\n",
       "      <td>-1.403673</td>\n",
       "      <td>0.433058</td>\n",
       "      <td>0</td>\n",
       "      <td>1</td>\n",
       "      <td>0</td>\n",
       "      <td>1</td>\n",
       "      <td>0</td>\n",
       "      <td>0</td>\n",
       "      <td>0</td>\n",
       "      <td>1</td>\n",
       "      <td>0</td>\n",
       "      <td>0</td>\n",
       "    </tr>\n",
       "    <tr>\n",
       "      <td>283208</td>\n",
       "      <td>-1.519509</td>\n",
       "      <td>-0.442747</td>\n",
       "      <td>1</td>\n",
       "      <td>0</td>\n",
       "      <td>0</td>\n",
       "      <td>1</td>\n",
       "      <td>0</td>\n",
       "      <td>1</td>\n",
       "      <td>0</td>\n",
       "      <td>0</td>\n",
       "      <td>0</td>\n",
       "      <td>0</td>\n",
       "    </tr>\n",
       "  </tbody>\n",
       "</table>\n",
       "</div>"
      ],
      "text/plain": [
       "                  Age  Order_Value_USD  frequent_country  repeat_customer  \\\n",
       "Merchant_ID                                                                 \n",
       "361689       1.028894        -0.968230                 1                1   \n",
       "389557       0.681385        -0.749279                 1                1   \n",
       "116849      -0.940326         3.892490                 1                0   \n",
       "101971      -1.403673         0.433058                 0                1   \n",
       "283208      -1.519509        -0.442747                 1                0   \n",
       "\n",
       "             repeat_device  Gender_M  Order_Payment_Method_Credit Card  \\\n",
       "Merchant_ID                                                              \n",
       "361689                   0         1                                 0   \n",
       "389557                   0         0                                 1   \n",
       "116849                   0         0                                 1   \n",
       "101971                   0         1                                 0   \n",
       "283208                   0         1                                 0   \n",
       "\n",
       "             Order_Payment_Method_Debit Card  Order_Payment_Method_E-wallet  \\\n",
       "Merchant_ID                                                                   \n",
       "361689                                     0                              0   \n",
       "389557                                     0                              0   \n",
       "116849                                     0                              0   \n",
       "101971                                     0                              0   \n",
       "283208                                     1                              0   \n",
       "\n",
       "             Order_Payment_Method_Internet Banking  Order_Source_Direct  \\\n",
       "Merchant_ID                                                               \n",
       "361689                                           0                    0   \n",
       "389557                                           0                    0   \n",
       "116849                                           0                    0   \n",
       "101971                                           1                    0   \n",
       "283208                                           0                    0   \n",
       "\n",
       "             Order_Source_SEO  \n",
       "Merchant_ID                    \n",
       "361689                      0  \n",
       "389557                      1  \n",
       "116849                      1  \n",
       "101971                      0  \n",
       "283208                      0  "
      ]
     },
     "execution_count": 247,
     "metadata": {},
     "output_type": "execute_result"
    }
   ],
   "source": [
    "X_train.head()"
   ]
  },
  {
   "cell_type": "markdown",
   "metadata": {},
   "source": [
    "# Model building"
   ]
  },
  {
   "cell_type": "code",
   "execution_count": 251,
   "metadata": {},
   "outputs": [
    {
     "data": {
      "text/plain": [
       "0.2832764505119454"
      ]
     },
     "execution_count": 251,
     "metadata": {},
     "output_type": "execute_result"
    }
   ],
   "source": [
    "# logistic regression\n",
    "from sklearn.linear_model import LogisticRegression\n",
    "logreg=LogisticRegression(class_weight='balanced')\n",
    "logreg.fit(X_train,y_train)\n",
    "\n",
    "y_pred_train=logreg.predict(X_train)\n",
    "y_pred_test=logreg.predict(X_test)\n",
    "f1_score(y_test,y_pred_test)"
   ]
  },
  {
   "cell_type": "code",
   "execution_count": 263,
   "metadata": {},
   "outputs": [
    {
     "data": {
      "text/html": [
       "<div>\n",
       "<style scoped>\n",
       "    .dataframe tbody tr th:only-of-type {\n",
       "        vertical-align: middle;\n",
       "    }\n",
       "\n",
       "    .dataframe tbody tr th {\n",
       "        vertical-align: top;\n",
       "    }\n",
       "\n",
       "    .dataframe thead th {\n",
       "        text-align: right;\n",
       "    }\n",
       "</style>\n",
       "<table border=\"1\" class=\"dataframe\">\n",
       "  <thead>\n",
       "    <tr style=\"text-align: right;\">\n",
       "      <th></th>\n",
       "      <th>Feature</th>\n",
       "      <th>Coeff</th>\n",
       "    </tr>\n",
       "  </thead>\n",
       "  <tbody>\n",
       "    <tr>\n",
       "      <td>4</td>\n",
       "      <td>repeat_device</td>\n",
       "      <td>3.911697</td>\n",
       "    </tr>\n",
       "    <tr>\n",
       "      <td>10</td>\n",
       "      <td>Order_Source_Direct</td>\n",
       "      <td>0.162623</td>\n",
       "    </tr>\n",
       "    <tr>\n",
       "      <td>6</td>\n",
       "      <td>Order_Payment_Method_Credit Card</td>\n",
       "      <td>0.094941</td>\n",
       "    </tr>\n",
       "    <tr>\n",
       "      <td>7</td>\n",
       "      <td>Order_Payment_Method_Debit Card</td>\n",
       "      <td>0.076103</td>\n",
       "    </tr>\n",
       "    <tr>\n",
       "      <td>2</td>\n",
       "      <td>frequent_country</td>\n",
       "      <td>0.053039</td>\n",
       "    </tr>\n",
       "    <tr>\n",
       "      <td>8</td>\n",
       "      <td>Order_Payment_Method_E-wallet</td>\n",
       "      <td>0.046527</td>\n",
       "    </tr>\n",
       "    <tr>\n",
       "      <td>9</td>\n",
       "      <td>Order_Payment_Method_Internet Banking</td>\n",
       "      <td>0.019599</td>\n",
       "    </tr>\n",
       "    <tr>\n",
       "      <td>3</td>\n",
       "      <td>repeat_customer</td>\n",
       "      <td>-0.003576</td>\n",
       "    </tr>\n",
       "    <tr>\n",
       "      <td>1</td>\n",
       "      <td>Order_Value_USD</td>\n",
       "      <td>-0.005728</td>\n",
       "    </tr>\n",
       "    <tr>\n",
       "      <td>5</td>\n",
       "      <td>Gender_M</td>\n",
       "      <td>-0.009727</td>\n",
       "    </tr>\n",
       "    <tr>\n",
       "      <td>0</td>\n",
       "      <td>Age</td>\n",
       "      <td>-0.012129</td>\n",
       "    </tr>\n",
       "    <tr>\n",
       "      <td>11</td>\n",
       "      <td>Order_Source_SEO</td>\n",
       "      <td>-0.024622</td>\n",
       "    </tr>\n",
       "  </tbody>\n",
       "</table>\n",
       "</div>"
      ],
      "text/plain": [
       "                                  Feature     Coeff\n",
       "4                           repeat_device  3.911697\n",
       "10                    Order_Source_Direct  0.162623\n",
       "6        Order_Payment_Method_Credit Card  0.094941\n",
       "7         Order_Payment_Method_Debit Card  0.076103\n",
       "2                        frequent_country  0.053039\n",
       "8           Order_Payment_Method_E-wallet  0.046527\n",
       "9   Order_Payment_Method_Internet Banking  0.019599\n",
       "3                         repeat_customer -0.003576\n",
       "1                         Order_Value_USD -0.005728\n",
       "5                                Gender_M -0.009727\n",
       "0                                     Age -0.012129\n",
       "11                       Order_Source_SEO -0.024622"
      ]
     },
     "execution_count": 263,
     "metadata": {},
     "output_type": "execute_result"
    }
   ],
   "source": [
    "#identifying important features\n",
    "coeff_df = pd.DataFrame(X_train.columns)\n",
    "coeff_df.columns = ['Feature']\n",
    "coeff_df[\"Coeff\"] = pd.Series(logreg.coef_[0])\n",
    "\n",
    "coeff_df.sort_values(by='Coeff', ascending=False)\n"
   ]
  },
  {
   "cell_type": "code",
   "execution_count": 268,
   "metadata": {},
   "outputs": [
    {
     "data": {
      "text/plain": [
       "([0, 1, 2, 3, 4, 5, 6, 7, 8, 9, 10, 11],\n",
       " <a list of 12 Text xticklabel objects>)"
      ]
     },
     "execution_count": 268,
     "metadata": {},
     "output_type": "execute_result"
    },
    {
     "data": {
      "image/png": "[encoded data removed]",
      "text/plain": [
       "<Figure size 432x288 with 1 Axes>"
      ]
     },
     "metadata": {
      "needs_background": "light"
     },
     "output_type": "display_data"
    }
   ],
   "source": [
    "\n",
    "plt.bar('Feature','Coeff',data=coeff_df)\n",
    "plt.xticks(rotation=90)"
   ]
  },
  {
   "cell_type": "code",
   "execution_count": 283,
   "metadata": {},
   "outputs": [
    {
     "data": {
      "text/plain": [
       "0.2832764505119454"
      ]
     },
     "execution_count": 283,
     "metadata": {},
     "output_type": "execute_result"
    }
   ],
   "source": [
    "# linear discriminant analysis\n",
    "from sklearn.discriminant_analysis import LinearDiscriminantAnalysis\n",
    "lda=LinearDiscriminantAnalysis(n_components=1)\n",
    "lda.fit(X_train,y_train)\n",
    "lda_features_train=lda.transform(X_train)\n",
    "lda_features_test=lda.transform(X_test)\n",
    "\n",
    "y_pred_train=lda.predict(X_train)\n",
    "y_pred_test=lda.predict(X_test)\n",
    "f1_score(y_test,y_pred_test)"
   ]
  },
  {
   "cell_type": "code",
   "execution_count": 289,
   "metadata": {},
   "outputs": [
    {
     "name": "stderr",
     "output_type": "stream",
     "text": [
      "No handles with labels found to put in legend.\n"
     ]
    },
    {
     "data": {
      "text/plain": [
       "<matplotlib.legend.Legend at 0x29c0ca71e88>"
      ]
     },
     "execution_count": 289,
     "metadata": {},
     "output_type": "execute_result"
    },
    {
     "data": {
      "image/png": "[encoded data removed]",
      "text/plain": [
       "<Figure size 432x288 with 1 Axes>"
      ]
     },
     "metadata": {
      "needs_background": "light"
     },
     "output_type": "display_data"
    }
   ],
   "source": [
    "x1=lda_features_train\n",
    "# visualizing data\n",
    "\n",
    "label=[]\n",
    "colors=[]\n",
    "for i in y_train:\n",
    "    if i==1:\n",
    "        label.append(1)\n",
    "        colors.append('red')\n",
    "    else: \n",
    "        label.append(0)\n",
    "        colors.append('green')\n",
    "    \n",
    "plt.scatter(y_train,x1,c=label)\n",
    "plt.legend()"
   ]
  },
  {
   "cell_type": "code",
   "execution_count": 254,
   "metadata": {},
   "outputs": [
    {
     "data": {
      "text/plain": [
       "0.2832764505119454"
      ]
     },
     "execution_count": 254,
     "metadata": {},
     "output_type": "execute_result"
    }
   ],
   "source": [
    "# decision tree\n",
    "from sklearn.tree import DecisionTreeClassifier\n",
    "clf=DecisionTreeClassifier(class_weight='balanced')\n",
    "clf.fit(X_train,y_train)\n",
    "\n",
    "y_pred_train=logreg.predict(X_train)\n",
    "y_pred_test=logreg.predict(X_test)\n",
    "f1_score(y_test,y_pred_test)"
   ]
  },
  {
   "cell_type": "code",
   "execution_count": 259,
   "metadata": {},
   "outputs": [],
   "source": [
    "# random forest\n",
    "from sklearn.ensemble import RandomForestClassifier\n",
    "clf=RandomForestClassifier(n_jobs=3)\n",
    "kfold = StratifiedKFold(n_splits=3, shuffle=True, random_state=143)\n",
    "\n",
    "param_grid = {\"n_estimators\" : [150, 250,300],\n",
    "              \"max_depth\" : [4,8],\n",
    "              \"max_features\" : [3, 5, 7],\n",
    "              \"min_samples_leaf\" : [4, 6, 8]}\n",
    "\n",
    "rf_grid = GridSearchCV(clf, param_grid= param_grid, cv=kfold)"
   ]
  },
  {
   "cell_type": "code",
   "execution_count": 260,
   "metadata": {},
   "outputs": [
    {
     "name": "stdout",
     "output_type": "stream",
     "text": [
      "Wall time: 4min 11s\n"
     ]
    },
    {
     "data": {
      "text/plain": [
       "GridSearchCV(cv=StratifiedKFold(n_splits=3, random_state=143, shuffle=True),\n",
       "             error_score=nan,\n",
       "             estimator=RandomForestClassifier(bootstrap=True, ccp_alpha=0.0,\n",
       "                                              class_weight=None,\n",
       "                                              criterion='gini', max_depth=None,\n",
       "                                              max_features='auto',\n",
       "                                              max_leaf_nodes=None,\n",
       "                                              max_samples=None,\n",
       "                                              min_impurity_decrease=0.0,\n",
       "                                              min_impurity_split=None,\n",
       "                                              min_samples_leaf=1,\n",
       "                                              min_samples_split=2,\n",
       "                                              min_weight_fraction_leaf=0.0,\n",
       "                                              n_estimators=100, n_jobs=3,\n",
       "                                              oob_score=False,\n",
       "                                              random_state=None, verbose=0,\n",
       "                                              warm_start=False),\n",
       "             iid='deprecated', n_jobs=None,\n",
       "             param_grid={'max_depth': [4, 8], 'max_features': [3, 5, 7],\n",
       "                         'min_samples_leaf': [4, 6, 8],\n",
       "                         'n_estimators': [150, 250, 300]},\n",
       "             pre_dispatch='2*n_jobs', refit=True, return_train_score=False,\n",
       "             scoring=None, verbose=0)"
      ]
     },
     "execution_count": 260,
     "metadata": {},
     "output_type": "execute_result"
    }
   ],
   "source": [
    "%%time\n",
    "rf_grid.fit(X_train,y_train)\n"
   ]
  },
  {
   "cell_type": "code",
   "execution_count": 261,
   "metadata": {},
   "outputs": [
    {
     "data": {
      "text/plain": [
       "{'max_depth': 8, 'max_features': 5, 'min_samples_leaf': 4, 'n_estimators': 300}"
      ]
     },
     "execution_count": 261,
     "metadata": {},
     "output_type": "execute_result"
    }
   ],
   "source": [
    "rf_grid.best_params_"
   ]
  },
  {
   "cell_type": "code",
   "execution_count": 293,
   "metadata": {},
   "outputs": [
    {
     "name": "stdout",
     "output_type": "stream",
     "text": [
      "0.6064427690198766\n",
      "0.23826714801444043\n"
     ]
    }
   ],
   "source": [
    "#KNN classification\n",
    "from sklearn.neighbors import KNeighborsClassifier\n",
    "\n",
    "model2= KNeighborsClassifier(n_neighbors=6,metric='euclidean')\n",
    "model2.fit(X_train,y_train)\n",
    "y_pred_train=model2.predict(X_train)\n",
    "y_pred_test=model2.predict(X_test)\n",
    "print(f1_score(y_train,y_pred_train))\n",
    "print(f1_score(y_test,y_pred_test))"
   ]
  },
  {
   "cell_type": "code",
   "execution_count": 274,
   "metadata": {},
   "outputs": [],
   "source": [
    "# gradient boosting\n",
    "from sklearn.ensemble import GradientBoostingClassifier\n",
    "clf=GradientBoostingClassifier(random_state=123)"
   ]
  },
  {
   "cell_type": "code",
   "execution_count": 295,
   "metadata": {},
   "outputs": [
    {
     "name": "stdout",
     "output_type": "stream",
     "text": [
      "Wall time: 3min\n"
     ]
    },
    {
     "data": {
      "text/plain": [
       "GridSearchCV(cv=3, error_score=nan,\n",
       "             estimator=GradientBoostingClassifier(ccp_alpha=0.0,\n",
       "                                                  criterion='friedman_mse',\n",
       "                                                  init=None, learning_rate=0.1,\n",
       "                                                  loss='deviance', max_depth=3,\n",
       "                                                  max_features=None,\n",
       "                                                  max_leaf_nodes=None,\n",
       "                                                  min_impurity_decrease=0.0,\n",
       "                                                  min_impurity_split=None,\n",
       "                                                  min_samples_leaf=1,\n",
       "                                                  min_samples_split=2,\n",
       "                                                  min_weight_fraction_leaf=0.0,\n",
       "                                                  n_estimators=100,\n",
       "                                                  n_iter_no_change=None,\n",
       "                                                  presort='deprecated',\n",
       "                                                  random_state=123,\n",
       "                                                  subsample=1.0, tol=0.0001,\n",
       "                                                  validation_fraction=0.1,\n",
       "                                                  verbose=0, warm_start=False),\n",
       "             iid='deprecated', n_jobs=-1,\n",
       "             param_grid={'max_depth': [2, 4, 8],\n",
       "                         'max_features': [0.2, 0.3, 0.4],\n",
       "                         'n_estimators': [100, 200, 300],\n",
       "                         'subsample': [0.8, 0.6]},\n",
       "             pre_dispatch='2*n_jobs', refit=True, return_train_score=False,\n",
       "             scoring=None, verbose=0)"
      ]
     },
     "execution_count": 295,
     "metadata": {},
     "output_type": "execute_result"
    }
   ],
   "source": [
    "%%time\n",
    "gbm_param_grid = {'max_depth': [2,4,8], 'subsample': [0.8, 0.6,], 'max_features':[0.2,0.3,0.4], \n",
    "              'n_estimators': [ 100,200,300]}\n",
    "\n",
    "gbm_grid = GridSearchCV(clf, param_grid=gbm_param_grid, cv=3,n_jobs=-1)\n",
    "\n",
    "gbm_grid.fit(X_train,y_train)"
   ]
  },
  {
   "cell_type": "code",
   "execution_count": 296,
   "metadata": {},
   "outputs": [
    {
     "data": {
      "text/plain": [
       "{'max_depth': 2, 'max_features': 0.3, 'n_estimators': 300, 'subsample': 0.6}"
      ]
     },
     "execution_count": 296,
     "metadata": {},
     "output_type": "execute_result"
    }
   ],
   "source": [
    "gbm_grid.best_params_"
   ]
  },
  {
   "cell_type": "code",
   "execution_count": 297,
   "metadata": {},
   "outputs": [
    {
     "name": "stdout",
     "output_type": "stream",
     "text": [
      "0.6287842383469485\n",
      "0.2832764505119454\n"
     ]
    }
   ],
   "source": [
    "y_pred_train=gbm_grid.predict(X_train)\n",
    "y_pred_test=gbm_grid.predict(X_test)\n",
    "print(f1_score(y_train,y_pred_train))\n",
    "print(f1_score(y_test,y_pred_test))"
   ]
  },
  {
   "cell_type": "code",
   "execution_count": 303,
   "metadata": {},
   "outputs": [
    {
     "data": {
      "text/plain": [
       "<matplotlib.axes._subplots.AxesSubplot at 0x29c0d0ede48>"
      ]
     },
     "execution_count": 303,
     "metadata": {},
     "output_type": "execute_result"
    },
    {
     "data": {
      "image/png": "[encoded data removed]",
      "text/plain": [
       "<Figure size 720x720 with 2 Axes>"
      ]
     },
     "metadata": {},
     "output_type": "display_data"
    }
   ],
   "source": [
    "conf=confusion_matrix(y_test,y_pred_test)\n",
    "cmap=sns.cubehelix_palette(50,hue=0.05,rot=0,light=0.9,dark=0,as_cmap=True)\n",
    "plt.figure(figsize=(10,10))\n",
    "sns.set(font_scale=1.2)\n",
    "akws = {\"ha\": 'left',\"va\": 'bottom'}\n",
    "sns.heatmap(conf,cmap=cmap,xticklabels=['predicted Normal','predicted fraud'],yticklabels=['actual normal','actual fraud'],annot=True,fmt='d',annot_kws=akws)\n"
   ]
  },
  {
   "cell_type": "markdown",
   "metadata": {},
   "source": [
    "# exporting to csv"
   ]
  },
  {
   "cell_type": "code",
   "execution_count": 262,
   "metadata": {},
   "outputs": [
    {
     "data": {
      "text/plain": [
       "0.2832764505119454"
      ]
     },
     "execution_count": 262,
     "metadata": {},
     "output_type": "execute_result"
    }
   ],
   "source": [
    "y_pred_train=rf_grid.predict(X_train)\n",
    "y_pred_test=rf_grid.predict(X_test)\n",
    "f1_score(y_test,y_pred_test)"
   ]
  },
  {
   "cell_type": "code",
   "execution_count": 272,
   "metadata": {},
   "outputs": [],
   "source": [
    "forecast=rf_grid.predict(final_2)\n",
    "final_2['outcome']=forecast\n",
    "df=final_2.outcome\n",
    "df.to_csv('forecast.csv',index=True,header=True)"
   ]
  }
 ],
 "metadata": {
  "kernelspec": {
   "display_name": "Python 3",
   "language": "python",
   "name": "python3"
  },
  "language_info": {
   "codemirror_mode": {
    "name": "ipython",
    "version": 3
   },
   "file_extension": ".py",
   "mimetype": "text/x-python",
   "name": "python",
   "nbconvert_exporter": "python",
   "pygments_lexer": "ipython3",
   "version": "3.7.4"
  }
 },
 "nbformat": 4,
 "nbformat_minor": 2
}
